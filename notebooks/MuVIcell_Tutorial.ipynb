{
 "cells": [
  {
   "cell_type": "markdown",
   "metadata": {},
   "source": [
    "# MuVIcell Tutorial: Multi-View Integration for Sample-Aggregated Single-Cell Data\n",
    "\n",
    "This notebook demonstrates how to use the MuVIcell package for multi-view integration and analysis of sample-aggregated single-cell data using MuVI (Multi-View Integration).\n",
    "\n",
    "## Overview\n",
    "\n",
    "MuVIcell provides a streamlined workflow for:\n",
    "1. **Generating/Loading** multi-view data in muon format (samples x features)\n",
    "2. **Preprocessing** data for MuVI analysis\n",
    "3. **Running MuVI** to identify latent factors using `muvi.tl.from_mdata`\n",
    "4. **Analyzing** and interpreting factors\n",
    "5. **Visualizing** results\n",
    "\n",
    "Note: Each row represents a **sample** (not individual cells) and views contain **cell type aggregated data per sample**."
   ]
  },
  {
   "cell_type": "code",
   "execution_count": null,
   "metadata": {},
   "outputs": [],
   "source": [
    "import numpy as np\n",
    "import pandas as pd\n",
    "import muon as mu\n",
    "import warnings\n",
    "warnings.filterwarnings('ignore')\n",
    "\n",
    "# Import muvicell modules\n",
    "from muvicell import synthetic, preprocessing, analysis, visualization\n",
    "\n",
    "# Import MuVI directly to show compatibility\n",
    "try:\n",
    "    import muvi\n",
    "    import muvi.tl\n",
    "    MUVI_AVAILABLE = True\n",
    "    print(\"MuVI is available\")\n",
    "except ImportError:\n",
    "    MUVI_AVAILABLE = False\n",
    "    print(\"MuVI not available - using mock implementation\")\n",
    "\n",
    "# Set random seed for reproducibility\n",
    "np.random.seed(42)"
   ]
  },
  {
   "cell_type": "markdown",
   "metadata": {},
   "source": [
    "## 1. Generate Synthetic Multi-View Data\n",
    "\n",
    "Generate synthetic multi-view data with 3 views (5, 10, 15 features) and 200 samples:"
   ]
  },
  {
   "cell_type": "code",
   "execution_count": null,
   "metadata": {},
   "outputs": [],
   "source": [
    "# Generate synthetic data as specified\n",
    "mdata = synthetic.generate_synthetic_data(\n",
    "    n_samples=200,  # Note: samples, not cells\n",
    "    view_configs={\n",
    "        'view1': {'n_vars': 5, 'sparsity': 0.3},\n",
    "        'view2': {'n_vars': 10, 'sparsity': 0.4},\n",
    "        'view3': {'n_vars': 15, 'sparsity': 0.5}\n",
    "    }\n",
    ")\n",
    "\n",
    "print(f\"Generated data shape: {mdata.shape}\")\n",
    "print(f\"Views: {list(mdata.mod.keys())}\")\n",
    "for view_name, view_data in mdata.mod.items():\n",
    "    print(f\"  {view_name}: {view_data.shape}\")"
   ]
  },
  {
   "cell_type": "markdown",
   "metadata": {},
   "source": [
    "## 2. Add Latent Factor Structure\n",
    "\n",
    "Add realistic latent factor structure to the synthetic data:"
   ]
  },
  {
   "cell_type": "code",
   "execution_count": null,
   "metadata": {},
   "outputs": [],
   "source": [
    "# Add latent structure with shared metadata\n",
    "mdata_structured = synthetic.add_latent_structure(\n",
    "    mdata, \n",
    "    n_latent_factors=5\n",
    ")\n",
    "\n",
    "print(f\"Sample metadata columns: {list(mdata_structured.obs.columns)}\")\n",
    "print(f\"Unique cell types: {mdata_structured.obs['cell_type'].unique()}\")\n",
    "print(f\"Unique conditions: {mdata_structured.obs['condition'].unique()}\")"
   ]
  },
  {
   "cell_type": "markdown",
   "metadata": {},
   "source": [
    "## 3. Preprocess Data for MuVI\n",
    "\n",
    "Apply preprocessing pipeline (optimized for synthetic data):"
   ]
  },
  {
   "cell_type": "code",
   "execution_count": null,
   "metadata": {},
   "outputs": [],
   "source": [
    "# Preprocess for MuVI analysis\n",
    "mdata_processed = preprocessing.preprocess_for_muvi(\n",
    "    mdata_structured,\n",
    "    filter_cells=False,  # Don't filter synthetic data\n",
    "    filter_genes=False,  # Don't filter synthetic data\n",
    "    normalize=True,\n",
    "    find_hvg=False,      # Skip HVG for synthetic data\n",
    "    subset_hvg=False\n",
    ")\n",
    "\n",
    "print(f\"Preprocessed data shape: {mdata_processed.shape}\")\n",
    "print(\"Data ready for MuVI analysis\")"
   ]
  },
  {
   "cell_type": "markdown",
   "metadata": {},
   "source": [
    "## 4. Run MuVI Analysis\n",
    "\n",
    "Run MuVI using the exact same API as the original analysis:"
   ]
  },
  {
   "cell_type": "code",
   "execution_count": null,
   "metadata": {},
   "outputs": [],
   "source": [
    "# Run MuVI using the exact same pattern as original analysis\n",
    "if MUVI_AVAILABLE:\n",
    "    model = muvi.tl.from_mdata(\n",
    "        mdata_processed,\n",
    "        n_factors=10,\n",
    "        nmf=False,\n",
    "        device='cpu'\n",
    "    )\n",
    "    \n",
    "    # Fit the model\n",
    "    model.fit()\n",
    "    \n",
    "    print(f\"MuVI model fitted with {model.n_factors} factors\")\n",
    "else:\n",
    "    # Use mock implementation for demonstration\n",
    "    from muvicell.muvi_runner import _create_mock_muvi_model\n",
    "    model = _create_mock_muvi_model(mdata_processed, n_factors=10)\n",
    "    model.fit()\n",
    "    print(\"Mock MuVI model fitted with 10 factors\")\n",
    "\n",
    "# Access the updated mdata with MuVI results\n",
    "mdata_muvi = model.mdata\n",
    "print(f\"Factor scores shape: {mdata_muvi.obsm['X_muvi'].shape}\")"
   ]
  },
  {
   "cell_type": "markdown",
   "metadata": {},
   "source": [
    "## 5. Characterize Factors\n",
    "\n",
    "Identify top genes contributing to each factor:"
   ]
  },
  {
   "cell_type": "code",
   "execution_count": null,
   "metadata": {},
   "outputs": [],
   "source": [
    "# Characterize factors by top genes\n",
    "factor_genes = analysis.characterize_factors(\n",
    "    model,\n",
    "    top_genes_per_factor=3,\n",
    "    loading_threshold=0.05\n",
    ")\n",
    "\n",
    "print(\"Top genes for each factor:\")\n",
    "for view_name, df in factor_genes.items():\n",
    "    if len(df) > 0:\n",
    "        print(f\"\\n{view_name}:\")\n",
    "        print(df.head(10))\n",
    "    else:\n",
    "        print(f\"\\n{view_name}: No significant genes found\")"
   ]
  },
  {
   "cell_type": "markdown",
   "metadata": {},
   "source": [
    "## 6. Factor Analysis\n",
    "\n",
    "Analyze factor relationships and associations:"
   ]
  },
  {
   "cell_type": "code",
   "execution_count": null,
   "metadata": {},
   "outputs": [],
   "source": [
    "# Calculate factor correlations\n",
    "factor_correlations = analysis.calculate_factor_correlations(model)\n",
    "print(\"Factor correlation matrix:\")\n",
    "print(factor_correlations.round(3))\n",
    "\n",
    "# Identify factor-metadata associations\n",
    "associations = analysis.identify_factor_associations(\n",
    "    model,\n",
    "    categorical_test='kruskal'\n",
    ")\n",
    "print(\"\\nFactor-metadata associations:\")\n",
    "print(associations.head(10))"
   ]
  },
  {
   "cell_type": "markdown",
   "metadata": {},
   "source": [
    "## 7. Sample Clustering\n",
    "\n",
    "Cluster samples based on factor scores:"
   ]
  },
  {
   "cell_type": "code",
   "execution_count": null,
   "metadata": {},
   "outputs": [],
   "source": [
    "# Cluster samples based on factors\n",
    "clusters = analysis.cluster_cells_by_factors(\n",
    "    model,\n",
    "    n_clusters=3,\n",
    "    factors_to_use=None  # Use all factors\n",
    ")\n",
    "\n",
    "# Add clusters to sample metadata\n",
    "mdata_muvi.obs['factor_clusters'] = clusters\n",
    "print(f\"Created {len(np.unique(clusters))} sample clusters\")\n",
    "print(f\"Cluster distribution: {np.bincount(clusters)}\")"
   ]
  },
  {
   "cell_type": "markdown",
   "metadata": {},
   "source": [
    "## 8. Visualizations\n",
    "\n",
    "Create publication-ready plots using plotnine:"
   ]
  },
  {
   "cell_type": "code",
   "execution_count": null,
   "metadata": {},
   "outputs": [],
   "source": [
    "# 1. Variance explained plot\n",
    "p1 = visualization.plot_variance_explained(model, max_factors=10)\n",
    "print(\"Variance explained by factors:\")\n",
    "p1.show()"
   ]
  },
  {
   "cell_type": "code",
   "execution_count": null,
   "metadata": {},
   "outputs": [],
   "source": [
    "# 2. Factor scores colored by cell type\n",
    "p2 = visualization.plot_factor_scores(\n",
    "    model,\n",
    "    factors=[0, 1],\n",
    "    color_by='cell_type'\n",
    ")\n",
    "print(\"Factor scores by cell type:\")\n",
    "p2.show()"
   ]
  },
  {
   "cell_type": "code",
   "execution_count": null,
   "metadata": {},
   "outputs": [],
   "source": [
    "# 3. Factor loadings heatmap\n",
    "p3 = visualization.plot_factor_loadings(\n",
    "    model,\n",
    "    view='view1',\n",
    "    factors=[0, 1, 2],\n",
    "    top_genes=5\n",
    ")\n",
    "print(\"Factor loadings for view1:\")\n",
    "p3.show()"
   ]
  },
  {
   "cell_type": "code",
   "execution_count": null,
   "metadata": {},
   "outputs": [],
   "source": [
    "# 4. Factor associations heatmap\n",
    "p4 = visualization.plot_factor_associations(\n",
    "    model,\n",
    "    associations_df=associations\n",
    ")\n",
    "print(\"Factor-metadata associations:\")\n",
    "p4.show()"
   ]
  },
  {
   "cell_type": "code",
   "execution_count": null,
   "metadata": {},
   "outputs": [],
   "source": [
    "# 5. Factor comparison across cell types\n",
    "p5 = visualization.plot_factor_comparison(\n",
    "    model,\n",
    "    factors=[0, 1, 2],\n",
    "    group_by='cell_type',\n",
    "    plot_type='boxplot'\n",
    ")\n",
    "print(\"Factor activity by cell type:\")\n",
    "p5.show()"
   ]
  },
  {
   "cell_type": "markdown",
   "metadata": {},
   "source": [
    "## 9. Summary\n",
    "\n",
    "Final analysis summary:"
   ]
  },
  {
   "cell_type": "code",
   "execution_count": null,
   "metadata": {},
   "outputs": [],
   "source": [
    "# Summary statistics\n",
    "print(\"=== MuVIcell Analysis Summary ===\")\n",
    "print(f\"Samples analyzed: {mdata_muvi.n_obs}\")\n",
    "print(f\"Total features across views: {sum(v.n_vars for v in mdata_muvi.mod.values())}\")\n",
    "print(f\"MuVI factors: {mdata_muvi.obsm['X_muvi'].shape[1]}\")\n",
    "print(f\"Sample clusters: {len(np.unique(clusters))}\")\n",
    "\n",
    "# Show some factor-metadata associations\n",
    "significant_assoc = associations[associations['p_value'] < 0.05]\n",
    "print(f\"\\nSignificant factor-metadata associations: {len(significant_assoc)}\")\n",
    "if len(significant_assoc) > 0:\n",
    "    print(significant_assoc[['factor', 'metadata', 'p_value', 'effect_size']].head())\n",
    "\n",
    "print(\"\\n✅ MuVIcell analysis completed successfully!\")"
   ]
  }
 ],
 "metadata": {
  "kernelspec": {
   "display_name": "Python 3",
   "language": "python",
   "name": "python3"
  },
  "language_info": {
   "codemirror_mode": {
    "name": "ipython",
    "version": 3
   },
   "file_extension": ".py",
   "mimetype": "text/x-python",
   "name": "python",
   "nbconvert_exporter": "python",
   "pygments_lexer": "ipython3",
   "version": "3.10.0"
  }
 },
 "nbformat": 4,
 "nbformat_minor": 4
}