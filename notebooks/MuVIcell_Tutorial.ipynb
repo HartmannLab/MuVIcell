{
 "cells": [
  {
   "cell_type": "markdown",
   "metadata": {},
   "source": [
    "# MuVIcell Tutorial: Multi-View Integration for Single-Cell Data\n",
    "\n",
    "This notebook demonstrates how to use the MuVIcell package for multi-view integration and analysis of single-cell data using MuVI (Multi-View Integration).\n",
    "\n",
    "## Overview\n",
    "\n",
    "MuVIcell provides a streamlined workflow for:\n",
    "1. **Generating/Loading** multi-view data in muon format\n",
    "2. **Preprocessing** data for MuVI analysis\n",
    "3. **Running MuVI** to identify latent factors\n",
    "4. **Analyzing** and interpreting factors\n",
    "5. **Visualizing** results\n",
    "\n",
    "Let's start by importing the necessary modules."
   ]
  },
  {
   "cell_type": "code",
   "execution_count": null,
   "metadata": {},
   "outputs": [],
   "source": [
    "import numpy as np\n",
    "import pandas as pd\n",
    "import muon as mu\n",
    "import warnings\n",
    "warnings.filterwarnings('ignore')\n",
    "\n",
    "# Import muvicell modules\n",
    "from muvicell import synthetic, preprocessing, muvi_runner, analysis, visualization\n",
    "# Or import MuVI functions directly\n",
    "from muvicell import run_muvi, get_factor_scores\n",
    "\n",
    "# Set random seed for reproducibility\n",
    "np.random.seed(42)"
   ]
  },
  {
   "cell_type": "markdown",
   "metadata": {},
   "source": [
    "## 1. Generate Synthetic Multi-View Data\n",
    "\n",
    "First, let's generate synthetic multi-view data as specified in the requirements:\n",
    "- 3 views with 200 rows (samples)\n",
    "- Views with 5, 10, and 15 columns (features) respectively\n",
    "- Note: Each row represents a sample (e.g., spatial region, tissue section)\n",
    "- Views contain cell type aggregated data per sample"
   ]
  },
  {
   "cell_type": "code",
   "execution_count": null,
   "metadata": {},
   "outputs": [],
   "source": [
    "# Define view configurations\n",
    "view_configs = {\n",
    "    'view1': {'n_vars': 5, 'sparsity': 0.3},\n",
    "    'view2': {'n_vars': 10, 'sparsity': 0.4},\n",
    "    'view3': {'n_vars': 15, 'sparsity': 0.5}\n",
    "}\n",
    "\n",
    "# Generate synthetic data\n",
    "mdata_raw = synthetic.generate_synthetic_data(\n",
    "    n_cells=200,  # Note: these are samples, not individual cells\n",
    "    view_configs=view_configs,\n",
    "    random_state=42\n",
    ")\n",
    "\n",
    "print(f\"Generated synthetic data with {mdata_raw.n_obs} samples\")\n",
    "print(f\"Number of views: {len(mdata_raw.mod)}\")\n",
    "\n",
    "# Display view information\n",
    "from muvicell.data import get_view_info\n",
    "view_info = get_view_info(mdata_raw)\n",
    "print(\"\\nView information:\")\n",
    "print(view_info)"
   ]
  },
  {
   "cell_type": "markdown",
   "metadata": {},
   "source": [
    "## 2. Add Realistic Structure to the Data\n",
    "\n",
    "Let's add some realistic latent factor structure to make the analysis more interesting."
   ]
  },
  {
   "cell_type": "code",
   "execution_count": null,
   "metadata": {},
   "outputs": [],
   "source": [
    "# Add realistic latent factor structure\n",
    "mdata_structured = synthetic.add_latent_structure(\n",
    "    mdata_raw,\n",
    "    n_factors=5,\n",
    "    factor_variance=[0.3, 0.2, 0.15, 0.1, 0.05]\n",
    ")\n",
    "\n",
    "print(f\"Added {mdata_structured.obsm['true_factors'].shape[1]} latent factors\")\n",
    "print(f\"True factor variance: {mdata_structured.uns['true_factor_variance']}\")"
   ]
  },
  {
   "cell_type": "markdown",
   "metadata": {},
   "source": [
    "## 3. Data Validation\n",
    "\n",
    "Before preprocessing, let's validate that our data is suitable for MuVI analysis."
   ]
  },
  {
   "cell_type": "code",
   "execution_count": null,
   "metadata": {},
   "outputs": [],
   "source": [
    "# Validate data for MuVI\n",
    "from muvicell.data import validate_for_muvi\n",
    "validation_results = validate_for_muvi(mdata_structured)\n",
    "\n",
    "print(\"Data validation results:\")\n",
    "all_passed = True\n",
    "for check, result in validation_results.items():\n",
    "    status = \"✓\" if result else \"✗\"\n",
    "    print(f\"  {status} {check}: {result}\")\n",
    "    if not result:\n",
    "        all_passed = False\n",
    "\n",
    "if all_passed:\n",
    "    print(\"\\n✓ Data is valid for MuVI analysis!\")\n",
    "else:\n",
    "    print(\"\\n✗ Data validation failed. Please check your data.\")"
   ]
  },
  {
   "cell_type": "markdown",
   "metadata": {},
   "source": [
    "## 4. Preprocess Data for MuVI\n",
    "\n",
    "Now let's preprocess the data using the MuVIcell preprocessing pipeline."
   ]
  },
  {
   "cell_type": "code",
   "execution_count": null,
   "metadata": {},
   "outputs": [],
   "source": [
    "# Preprocess the data for MuVI - simplified approach\n",
    "mdata_processed = preprocessing.preprocess_for_muvi(\n",
    "    mdata_structured,\n",
    "    filter_cells=True,\n",
    "    filter_genes=True,\n",
    "    normalize=True,\n",
    "    find_hvg=False,  # Skip HVG detection for small synthetic data\n",
    "    subset_hvg=False\n",
    ")\n",
    "\n",
    "print(f\"Preprocessed data shape: {mdata_processed.shape}\")\n",
    "print(\"\\nPreprocessing completed successfully!\")"
   ]
  },
  {
   "cell_type": "markdown",
   "metadata": {},
   "source": [
    "## 5. Run MuVI Analysis\n",
    "\n",
    "Now let's run the actual MuVI analysis to identify latent factors that capture coordinated programs across views."
   ]
  },
  {
   "cell_type": "code",
   "execution_count": null,
   "metadata": {},
   "outputs": [],
   "source": [
    "# Run MuVI analysis using the exact same pattern as the original notebook\n",
    "mdata_muvi = run_muvi(\n",
    "    mdata_processed,\n",
    "    n_factors=10,\n",
    "    nmf=False,  # Use standard factor analysis, not non-negative\n",
    "    device=\"cpu\"\n",
    ")\n",
    "\n",
    "print(f\"MuVI analysis completed!\")\n",
    "print(f\"Number of factors: {mdata_muvi.obsm['X_muvi'].shape[1]}\")\n",
    "print(f\"Factor scores shape: {mdata_muvi.obsm['X_muvi'].shape}\")"
   ]
  },
  {
   "cell_type": "markdown",
   "metadata": {},
   "source": [
    "## 6. Analyze MuVI Results\n",
    "\n",
    "Let's analyze the identified factors and understand what they represent."
   ]
  },
  {
   "cell_type": "code",
   "execution_count": null,
   "metadata": {},
   "outputs": [],
   "source": [
    "# Extract factor scores and variance explained\n",
    "factor_scores = get_factor_scores(mdata_muvi)\n",
    "var_explained = muvi_runner.get_variance_explained(mdata_muvi)\n",
    "\n",
    "print(f\"Factor scores shape: {factor_scores.shape}\")\n",
    "print(\"\\nVariance explained by each factor:\")\n",
    "for view_name, var_exp in var_explained.items():\n",
    "    print(f\"  {view_name}: {var_exp}\")"
   ]
  },
  {
   "cell_type": "code",
   "execution_count": null,
   "metadata": {},
   "outputs": [],
   "source": [
    "# Characterize factors by identifying top contributing genes\n",
    "factor_genes = analysis.characterize_factors(\n",
    "    mdata_muvi,\n",
    "    n_top_genes=3,\n",
    "    loading_threshold=0.1\n",
    ")\n",
    "\n",
    "print(\"Top genes for each factor:\")\n",
    "for view_name, view_factors in factor_genes.items():\n",
    "    print(f\"\\n{view_name.upper()} VIEW:\")\n",
    "    for factor_id, genes in view_factors.items():\n",
    "        if genes:\n",
    "            top_genes = [gene['gene'] for gene in genes[:3]]\n",
    "            print(f\"  Factor {factor_id}: {', '.join(top_genes)}\")\n",
    "    if not any(view_factors.values()):\n",
    "        print(\"  No genes above threshold\")"
   ]
  },
  {
   "cell_type": "code",
   "execution_count": null,
   "metadata": {},
   "outputs": [],
   "source": [
    "# Identify associations between factors and metadata\n",
    "associations = analysis.identify_factor_associations(\n",
    "    mdata_muvi,\n",
    "    metadata_columns=['cell_type', 'condition'],\n",
    "    test_types=['anova', 'correlation']\n",
    ")\n",
    "\n",
    "print(\"Factor-metadata associations:\")\n",
    "if associations is not None and not associations.empty:\n",
    "    # Filter significant associations\n",
    "    significant = associations[associations['p_value'] < 0.05]\n",
    "    if not significant.empty:\n",
    "        print(\"\\nSignificant associations (p < 0.05):\")\n",
    "        for _, row in significant.iterrows():\n",
    "            print(f\"  {row['factor']} ↔ {row['metadata']}: {row['test']} (p = {row['p_value']:.3f})\")\n",
    "    else:\n",
    "        print(\"  No significant associations found\")\n",
    "else:\n",
    "    print(\"  No associations computed\")"
   ]
  },
  {
   "cell_type": "code",
   "execution_count": null,
   "metadata": {},
   "outputs": [],
   "source": [
    "# Cluster cells based on factor scores\n",
    "cluster_labels = analysis.cluster_cells_by_factors(\n",
    "    mdata_muvi,\n",
    "    n_clusters=3,\n",
    "    top_factors=5\n",
    ")\n",
    "\n",
    "# Add cluster labels to metadata\n",
    "mdata_muvi.obs['cluster'] = cluster_labels\n",
    "\n",
    "print(f\"Clustered samples into {len(np.unique(cluster_labels))} clusters\")\n",
    "print(\"\\nCluster sizes:\")\n",
    "cluster_counts = pd.Series(cluster_labels).value_counts().sort_index()\n",
    "for cluster_id, count in cluster_counts.items():\n",
    "    print(f\"  Cluster {cluster_id}: {count} samples\")"
   ]
  },
  {
   "cell_type": "markdown",
   "metadata": {},
   "source": [
    "## 7. Visualize Results\n",
    "\n",
    "Let's create visualizations to understand the identified factors and their relationships."
   ]
  },
  {
   "cell_type": "code",
   "execution_count": null,
   "metadata": {},
   "outputs": [],
   "source": [
    "# Plot variance explained by factors\n",
    "p1 = visualization.plot_variance_explained(mdata_muvi)\n",
    "print(\"Variance explained by factors (by view):\")\n",
    "p1.show()"
   ]
  },
  {
   "cell_type": "code",
   "execution_count": null,
   "metadata": {},
   "outputs": [],
   "source": [
    "# Plot factor scores in 2D space\n",
    "p2 = visualization.plot_factor_scores(\n",
    "    mdata_muvi,\n",
    "    factors=[0, 1],\n",
    "    color_by='cell_type',\n",
    "    size=3\n",
    ")\n",
    "print(\"Factor scores (Factor 0 vs Factor 1):\")\n",
    "p2.show()"
   ]
  },
  {
   "cell_type": "code",
   "execution_count": null,
   "metadata": {},
   "outputs": [],
   "source": [
    "# Plot factor loadings for the first view\n",
    "view_name = list(mdata_muvi.mod.keys())[0]\n",
    "p3 = visualization.plot_factor_loadings(\n",
    "    mdata_muvi,\n",
    "    view=view_name,\n",
    "    factor=0,\n",
    "    n_top_genes=5\n",
    ")\n",
    "print(f\"Top gene loadings for Factor 0 in {view_name}:\")\n",
    "p3.show()"
   ]
  },
  {
   "cell_type": "code",
   "execution_count": null,
   "metadata": {},
   "outputs": [],
   "source": [
    "# Plot cells colored by cluster in factor space\n",
    "p4 = visualization.plot_factor_scores(\n",
    "    mdata_muvi,\n",
    "    factors=[0, 1],\n",
    "    color_by='cluster',\n",
    "    size=3\n",
    ")\n",
    "print(\"Sample clusters in factor space:\")\n",
    "p4.show()"
   ]
  },
  {
   "cell_type": "code",
   "execution_count": null,
   "metadata": {},
   "outputs": [],
   "source": [
    "# Compare factor activity across cell types\n",
    "p5 = visualization.plot_factor_comparison(\n",
    "    mdata_muvi,\n",
    "    factors=[0, 1, 2],\n",
    "    group_by='cell_type',\n",
    "    plot_type='boxplot'\n",
    ")\n",
    "print(\"Factor activity by cell type:\")\n",
    "p5.show()"
   ]
  },
  {
   "cell_type": "markdown",
   "metadata": {},
   "source": [
    "## 8. Summary Analysis\n",
    "\n",
    "Let's summarize our findings and create some summary statistics."
   ]
  },
  {
   "cell_type": "code",
   "execution_count": null,
   "metadata": {},
   "outputs": [],
   "source": [
    "# Create summary of factor activity by cell type\n",
    "factor_summary = analysis.summarize_factor_activity(\n",
    "    mdata_muvi,\n",
    "    group_by='cell_type',\n",
    "    top_factors=5\n",
    ")\n",
    "\n",
    "print(\"Factor activity summary by cell type:\")\n",
    "print(factor_summary.head(15))"
   ]
  },
  {
   "cell_type": "code",
   "execution_count": null,
   "metadata": {},
   "outputs": [],
   "source": [
    "# Calculate factor correlations\n",
    "factor_correlations = analysis.calculate_factor_correlations(mdata_muvi)\n",
    "\n",
    "print(\"Factor correlation matrix:\")\n",
    "print(factor_correlations.round(3))\n",
    "\n",
    "# Find highly correlated factors\n",
    "corr_threshold = 0.5\n",
    "high_corr_pairs = []\n",
    "for i in range(factor_correlations.shape[0]):\n",
    "    for j in range(i+1, factor_correlations.shape[1]):\n",
    "        if abs(factor_correlations.iloc[i, j]) > corr_threshold:\n",
    "            high_corr_pairs.append((i, j, factor_correlations.iloc[i, j]))\n",
    "\n",
    "if high_corr_pairs:\n",
    "    print(f\"\\nHighly correlated factor pairs (|r| > {corr_threshold}):\")\n",
    "    for i, j, corr in high_corr_pairs:\n",
    "        print(f\"  Factor {i} ↔ Factor {j}: r = {corr:.3f}\")\n",
    "else:\n",
    "    print(f\"\\nNo highly correlated factor pairs found (|r| > {corr_threshold})\")"
   ]
  },
  {
   "cell_type": "code",
   "execution_count": null,
   "metadata": {},
   "outputs": [],
   "source": [
    "# Select top factors based on variance explained\n",
    "top_factors = muvi_runner.select_top_factors(\n",
    "    mdata_muvi,\n",
    "    n_top_factors=3\n",
    ")\n",
    "\n",
    "print(f\"Top 3 factors by variance explained: {top_factors}\")\n",
    "\n",
    "# Calculate total variance explained\n",
    "total_var_per_factor = []\n",
    "for i in range(mdata_muvi.obsm['X_muvi'].shape[1]):\n",
    "    total_var = sum([var_explained[view][i] for view in var_explained.keys()])\n",
    "    total_var_per_factor.append(total_var)\n",
    "\n",
    "print(\"\\nTotal variance explained by each factor:\")\n",
    "for i, var in enumerate(total_var_per_factor):\n",
    "    status = \"(top)\" if i in top_factors else \"\"\n",
    "    print(f\"  Factor {i}: {var:.3f} {status}\")"
   ]
  },
  {
   "cell_type": "markdown",
   "metadata": {},
   "source": [
    "## Conclusion\n",
    "\n",
    "This tutorial demonstrated the complete MuVIcell workflow:\n",
    "\n",
    "1. **Data Generation**: Created synthetic multi-view data with realistic structure\n",
    "2. **Preprocessing**: Applied appropriate normalization and filtering\n",
    "3. **MuVI Analysis**: Identified latent factors using MuVI integration\n",
    "4. **Factor Analysis**: Characterized factors by top genes and metadata associations\n",
    "5. **Visualization**: Created publication-ready plots to interpret results\n",
    "6. **Summary**: Provided comprehensive analysis of factor relationships\n",
    "\n",
    "The MuVIcell package simplifies multi-view integration analysis while providing powerful tools for interpretation and visualization of the results. Users can apply the same workflow to their own multi-modal single-cell datasets."
   ]
  }
 ],
 "metadata": {
  "kernelspec": {
   "display_name": "Python 3",
   "language": "python",
   "name": "python3"
  },
  "language_info": {
   "codemirror_mode": {
    "name": "ipython",
    "version": 3
   },
   "file_extension": ".py",
   "mimetype": "text/x-python",
   "name": "python",
   "nbconvert_exporter": "python",
   "pygments_lexer": "ipython3",
   "version": "3.9.0"
  }
 },
 "nbformat": 4,
 "nbformat_minor": 4
}