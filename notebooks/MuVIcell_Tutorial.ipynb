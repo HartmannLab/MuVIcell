{
 "cells": [
  {
   "cell_type": "markdown",
   "metadata": {},
   "source": [
    "# MuVIcell Tutorial: Multi-View Integration for Single-Cell Data\n",
    "\n",
    "This notebook demonstrates how to use the MuVIcell package for multi-view integration and analysis of single-cell data using MuVI (Multi-View Integration).\n",
    "\n",
    "## Overview\n",
    "\n",
    "MuVIcell provides a streamlined workflow for:\n",
    "1. **Generating/Loading** multi-view data in muon format\n",
    "2. **Preprocessing** data for MuVI analysis\n",
    "3. **Running MuVI** to identify latent factors\n",
    "4. **Analyzing** and interpreting factors\n",
    "5. **Visualizing** results\n",
    "\n",
    "Let's start by importing the necessary modules."
   ]
  },
  {
   "cell_type": "code",
   "execution_count": null,
   "metadata": {},
   "outputs": [],
   "source": [
    "import numpy as np\n",
    "import pandas as pd\n",
    "import muon as mu\n",
    "import warnings\n",
    "warnings.filterwarnings('ignore')\n",
    "\n",
    "# Import MuVIcell modules\n",
    "from MuVIcell import synthetic, preprocessing, muvi_runner, analysis, visualization\n",
    "\n",
    "# Set random seed for reproducibility\n",
    "np.random.seed(42)"
   ]
  },
  {
   "cell_type": "markdown",
   "metadata": {},
   "source": [
    "## 1. Generate Synthetic Multi-View Data\n",
    "\n",
    "First, let's generate synthetic multi-view data as specified in the requirements:\n",
    "- 3 views with 200 rows (cells)\n",
    "- Views with 5, 10, and 15 columns (features) respectively"
   ]
  },
  {
   "cell_type": "code",
   "execution_count": null,
   "metadata": {},
   "outputs": [],
   "source": [
    "# Define view configurations\n",
    "view_configs = {\n",
    "    'view1': {'n_vars': 5, 'sparsity': 0.3},\n",
    "    'view2': {'n_vars': 10, 'sparsity': 0.4},\n",
    "    'view3': {'n_vars': 15, 'sparsity': 0.5}\n",
    "}\n",
    "\n",
    "# Generate synthetic data\n",
    "mdata_raw = synthetic.generate_synthetic_data(\n",
    "    n_cells=200,\n",
    "    view_configs=view_configs,\n",
    "    random_state=42\n",
    ")\n",
    "\n",
    "print(f\"Generated synthetic data with {mdata_raw.n_obs} cells\")\n",
    "print(f\"Number of views: {len(mdata_raw.mod)}\")\n",
    "\n",
    "# Display view information\n",
    "from MuVIcell.data import get_view_info\n",
    "view_info = get_view_info(mdata_raw)\n",
    "print(\"\\nView information:\")\n",
    "print(view_info)"
   ]
  },
  {
   "cell_type": "markdown",
   "metadata": {},
   "source": [
    "## 2. Add Realistic Structure to the Data\n",
    "\n",
    "Let's add some realistic latent factor structure to make the analysis more interesting."
   ]
  },
  {
   "cell_type": "code",
   "execution_count": null,
   "metadata": {},
   "outputs": [],
   "source": [
    "# Add realistic latent factor structure\n",
    "mdata_structured = synthetic.add_realistic_structure(\n",
    "    mdata_raw,\n",
    "    n_latent_factors=4,\n",
    "    factor_variance=[0.25, 0.20, 0.15, 0.10]\n",
    ")\n",
    "\n",
    "print(f\"Added {mdata_structured.obsm['true_factors'].shape[1]} latent factors\")\n",
    "print(f\"True factor variance: {mdata_structured.uns['true_factor_variance']}\")"
   ]
  },
  {
   "cell_type": "markdown",
   "metadata": {},
   "source": [
    "## 3. Data Validation and Preprocessing\n",
    "\n",
    "Before running MuVI, let's validate our data and preprocess it appropriately."
   ]
  },
  {
   "cell_type": "code",
   "execution_count": null,
   "metadata": {},
   "outputs": [],
   "source": [
    "# Validate the data for MuVI analysis\n",
    "from MuVIcell.data import validate_muon_data\n",
    "\n",
    "validation_results = validate_muon_data(mdata_structured)\n",
    "print(\"Data validation results:\")\n",
    "for check, result in validation_results.items():\n",
    "    status = \"✓\" if result else \"✗\"\n",
    "    print(f\"  {status} {check}: {result}\")\n",
    "\n",
    "if all(validation_results.values()):\n",
    "    print(\"\\n✓ Data is valid for MuVI analysis!\")\n",
    "else:\n",
    "    print(\"\\n✗ Data validation failed. Please check your data.\")"
   ]
  },
  {
   "cell_type": "code",
   "execution_count": null,
   "metadata": {},
   "outputs": [],
   "source": [
    "# Preprocess the data for MuVI\n",
    "mdata_processed = preprocessing.preprocess_for_muvi(\n",
    "    mdata_structured,\n",
    "    filter_cells=True,\n",
    "    filter_genes=True,\n",
    "    normalize=True,\n",
    "    find_hvg=True,\n",
    "    subset_hvg=False,  # Keep all genes for this demo\n",
    "    n_top_genes=10  # Find top 10 HVGs per view\n",
    ")\n",
    "\n",
    "print(f\"Preprocessed data shape: {mdata_processed.shape}\")\n",
    "print(\"\\nHighly variable genes per view:\")\n",
    "for view_name, view_data in mdata_processed.mod.items():\n",
    "    if 'highly_variable' in view_data.var.columns:\n",
    "        n_hvg = view_data.var['highly_variable'].sum()\n",
    "        print(f\"  {view_name}: {n_hvg} highly variable genes\")"
   ]
  },
  {
   "cell_type": "markdown",
   "metadata": {},
   "source": [
    "## 4. Run MuVI Analysis\n",
    "\n",
    "Now let's run MuVI to identify latent factors across views.\n",
    "\n",
    "**Note**: Since the actual MuVI package might not be available in this environment, we'll simulate the results for demonstration purposes."
   ]
  },
  {
   "cell_type": "code",
   "execution_count": null,
   "metadata": {},
   "outputs": [],
   "source": [
    "# For this demo, we'll create mock MuVI results since the actual MuVI package \n",
    "# might not be available in all environments\n",
    "\n",
    "def create_mock_muvi_results(mdata, n_factors=6):\n",
    "    \"\"\"Create mock MuVI results for demonstration.\"\"\"\n",
    "    mdata_result = mdata.copy()\n",
    "    n_cells = mdata.n_obs\n",
    "    \n",
    "    # Create mock factor scores (similar to true factors with some noise)\n",
    "    true_factors = mdata.obsm.get('true_factors', np.random.normal(0, 1, (n_cells, 4)))\n",
    "    noise = np.random.normal(0, 0.2, (n_cells, n_factors))\n",
    "    \n",
    "    # Pad or truncate true factors to match n_factors\n",
    "    if true_factors.shape[1] < n_factors:\n",
    "        padding = np.random.normal(0, 0.5, (n_cells, n_factors - true_factors.shape[1]))\n",
    "        mock_scores = np.concatenate([true_factors, padding], axis=1)\n",
    "    else:\n",
    "        mock_scores = true_factors[:, :n_factors]\n",
    "    \n",
    "    mock_scores += noise\n",
    "    mdata_result.obsm['X_muvi'] = mock_scores\n",
    "    \n",
    "    # Create mock loadings for each view\n",
    "    for view_name, view_data in mdata_result.mod.items():\n",
    "        n_vars = view_data.n_vars\n",
    "        # Create sparse loadings (most genes have small loadings)\n",
    "        loadings = np.random.normal(0, 0.1, (n_vars, n_factors))\n",
    "        \n",
    "        # Make some genes have stronger loadings\n",
    "        for f in range(n_factors):\n",
    "            strong_genes = np.random.choice(n_vars, size=max(1, n_vars//4), replace=False)\n",
    "            loadings[strong_genes, f] += np.random.normal(0, 0.5, len(strong_genes))\n",
    "        \n",
    "        mdata_result.mod[view_name].varm['muvi_loadings'] = loadings\n",
    "    \n",
    "    # Create mock variance explained\n",
    "    base_variance = [0.15, 0.12, 0.10, 0.08, 0.06, 0.04][:n_factors]\n",
    "    mdata_result.uns['muvi_variance_explained'] = {\n",
    "        view_name: np.array(base_variance) * np.random.uniform(0.8, 1.2, n_factors)\n",
    "        for view_name in mdata_result.mod.keys()\n",
    "    }\n",
    "    \n",
    "    return mdata_result\n",
    "\n",
    "# Create mock MuVI results\n",
    "mdata_muvi = create_mock_muvi_results(mdata_processed, n_factors=6)\n",
    "\n",
    "print(f\"MuVI analysis completed!\")\n",
    "print(f\"Number of factors: {mdata_muvi.obsm['X_muvi'].shape[1]}\")\n",
    "print(f\"Factor scores shape: {mdata_muvi.obsm['X_muvi'].shape}\")"
   ]
  },
  {
   "cell_type": "markdown",
   "metadata": {},
   "source": [
    "## 5. Analyze MuVI Results\n",
    "\n",
    "Let's analyze the factors to understand what biological processes they might represent."
   ]
  },
  {
   "cell_type": "code",
   "execution_count": null,
   "metadata": {},
   "outputs": [],
   "source": [
    "# Get factor scores and loadings\n",
    "factor_scores = muvi_runner.get_factor_scores(mdata_muvi)\n",
    "variance_explained = muvi_runner.get_variance_explained(mdata_muvi)\n",
    "\n",
    "print(f\"Factor scores shape: {factor_scores.shape}\")\n",
    "print(\"\\nVariance explained by each factor:\")\n",
    "for view_name, var_exp in variance_explained.items():\n",
    "    print(f\"  {view_name}: {var_exp}\")"
   ]
  },
  {
   "cell_type": "code",
   "execution_count": null,
   "metadata": {},
   "outputs": [],
   "source": [
    "# Characterize factors by top contributing genes\n",
    "factor_characterization = analysis.characterize_factors(\n",
    "    mdata_muvi,\n",
    "    top_genes_per_factor=5,\n",
    "    loading_threshold=0.1\n",
    ")\n",
    "\n",
    "print(\"Top genes for each factor:\")\n",
    "for view_name, char_df in factor_characterization.items():\n",
    "    print(f\"\\n{view_name.upper()} VIEW:\")\n",
    "    if len(char_df) > 0:\n",
    "        for factor_id in char_df['factor'].unique():\n",
    "            factor_genes = char_df[char_df['factor'] == factor_id]\n",
    "            top_genes = factor_genes.nlargest(3, 'abs_loading')['gene'].tolist()\n",
    "            print(f\"  Factor {factor_id}: {', '.join(top_genes)}\")\n",
    "    else:\n",
    "        print(\"  No genes above threshold\")"
   ]
  },
  {
   "cell_type": "code",
   "execution_count": null,
   "metadata": {},
   "outputs": [],
   "source": [
    "# Identify factor associations with metadata\n",
    "factor_associations = analysis.identify_factor_associations(\n",
    "    mdata_muvi,\n",
    "    metadata_columns=['cell_type', 'condition', 'batch']\n",
    ")\n",
    "\n",
    "print(\"Factor-metadata associations:\")\n",
    "if len(factor_associations) > 0:\n",
    "    # Show significant associations\n",
    "    significant = factor_associations[factor_associations['p_value'] < 0.05]\n",
    "    if len(significant) > 0:\n",
    "        print(\"\\nSignificant associations (p < 0.05):\")\n",
    "        for _, row in significant.head(10).iterrows():\n",
    "            print(f\"  {row['factor']} ↔ {row['metadata']}: {row['test']} (p = {row['p_value']:.3f})\")\n",
    "    else:\n",
    "        print(\"  No significant associations found\")\n",
    "else:\n",
    "    print(\"  No associations computed\")"
   ]
  },
  {
   "cell_type": "code",
   "execution_count": null,
   "metadata": {},
   "outputs": [],
   "source": [
    "# Cluster cells based on factor activity\n",
    "cluster_labels = analysis.cluster_cells_by_factors(\n",
    "    mdata_muvi,\n",
    "    n_clusters=4,\n",
    "    random_state=42\n",
    ")\n",
    "\n",
    "# Add cluster labels to metadata\n",
    "mdata_muvi.obs['factor_clusters'] = [f'Cluster_{i}' for i in cluster_labels]\n",
    "\n",
    "print(f\"Clustered cells into {len(np.unique(cluster_labels))} clusters\")\n",
    "print(\"\\nCluster sizes:\")\n",
    "cluster_counts = pd.Series(cluster_labels).value_counts().sort_index()\n",
    "for cluster_id, count in cluster_counts.items():\n",
    "    print(f\"  Cluster {cluster_id}: {count} cells\")"
   ]
  },
  {
   "cell_type": "markdown",
   "metadata": {},
   "source": [
    "## 6. Visualize Results\n",
    "\n",
    "Let's create visualizations to better understand the factors and their biological meaning."
   ]
  },
  {
   "cell_type": "code",
   "execution_count": null,
   "metadata": {},
   "outputs": [],
   "source": [
    "# Plot variance explained by factors\n",
    "p1 = visualization.plot_variance_explained(mdata_muvi, max_factors=6, by_view=True)\n",
    "print(\"Variance explained by factors (by view):\")\n",
    "print(p1)"
   ]
  },
  {
   "cell_type": "code",
   "execution_count": null,
   "metadata": {},
   "outputs": [],
   "source": [
    "# Plot factor scores colored by cell type\n",
    "p2 = visualization.plot_factor_scores(\n",
    "    mdata_muvi,\n",
    "    factors=(0, 1),\n",
    "    color_by='cell_type',\n",
    "    size=2.0\n",
    ")\n",
    "print(\"Factor scores (Factor 0 vs Factor 1):\")\n",
    "print(p2)"
   ]
  },
  {
   "cell_type": "code",
   "execution_count": null,
   "metadata": {},
   "outputs": [],
   "source": [
    "# Plot factor loadings for the first view\n",
    "view_name = list(mdata_muvi.mod.keys())[0]\n",
    "p3 = visualization.plot_factor_loadings(\n",
    "    mdata_muvi,\n",
    "    view=view_name,\n",
    "    factor=0,\n",
    "    top_genes=5,\n",
    "    loading_threshold=0.05\n",
    ")\n",
    "print(f\"Top gene loadings for Factor 0 in {view_name}:\")\n",
    "print(p3)"
   ]
  },
  {
   "cell_type": "code",
   "execution_count": null,
   "metadata": {},
   "outputs": [],
   "source": [
    "# Plot cell clusters in factor space\n",
    "p4 = visualization.plot_cell_clusters(\n",
    "    mdata_muvi,\n",
    "    cluster_labels,\n",
    "    factors=(0, 1)\n",
    ")\n",
    "print(\"Cell clusters in factor space:\")\n",
    "print(p4)"
   ]
  },
  {
   "cell_type": "code",
   "execution_count": null,
   "metadata": {},
   "outputs": [],
   "source": [
    "# Compare factor activity across cell types\n",
    "p5 = visualization.plot_factor_comparison(\n",
    "    mdata_muvi,\n",
    "    factors=[0, 1, 2],\n",
    "    group_by='cell_type',\n",
    "    plot_type='boxplot'\n",
    ")\n",
    "print(\"Factor activity by cell type:\")\n",
    "print(p5)"
   ]
  },
  {
   "cell_type": "markdown",
   "metadata": {},
   "source": [
    "## 7. Summary and Interpretation\n",
    "\n",
    "Let's summarize the factor activity and provide some interpretation."
   ]
  },
  {
   "cell_type": "code",
   "execution_count": null,
   "metadata": {},
   "outputs": [],
   "source": [
    "# Summarize factor activity by cell type\n",
    "factor_summary = analysis.summarize_factor_activity(\n",
    "    mdata_muvi,\n",
    "    group_by='cell_type'\n",
    ")\n",
    "\n",
    "print(\"Factor activity summary by cell type:\")\n",
    "print(factor_summary.head(15))"
   ]
  },
  {
   "cell_type": "code",
   "execution_count": null,
   "metadata": {},
   "outputs": [],
   "source": [
    "# Calculate factor correlations\n",
    "factor_correlations = analysis.calculate_factor_correlations(mdata_muvi)\n",
    "\n",
    "print(\"Factor correlation matrix:\")\n",
    "print(factor_correlations.round(3))\n",
    "\n",
    "# Find highly correlated factor pairs\n",
    "corr_threshold = 0.5\n",
    "high_corr_pairs = []\n",
    "for i in range(len(factor_correlations)):\n",
    "    for j in range(i+1, len(factor_correlations)):\n",
    "        corr_val = factor_correlations.iloc[i, j]\n",
    "        if abs(corr_val) > corr_threshold:\n",
    "            high_corr_pairs.append((i, j, corr_val))\n",
    "\n",
    "if high_corr_pairs:\n",
    "    print(f\"\\nHighly correlated factor pairs (|r| > {corr_threshold}):\")\n",
    "    for i, j, corr in high_corr_pairs:\n",
    "        print(f\"  Factor {i} ↔ Factor {j}: r = {corr:.3f}\")\n",
    "else:\n",
    "    print(f\"\\nNo highly correlated factor pairs found (|r| > {corr_threshold})\")"
   ]
  },
  {
   "cell_type": "code",
   "execution_count": null,
   "metadata": {},
   "outputs": [],
   "source": [
    "# Select top factors based on variance explained\n",
    "top_factors = muvi_runner.select_top_factors(\n",
    "    mdata_muvi,\n",
    "    n_top_factors=3\n",
    ")\n",
    "\n",
    "print(f\"Top 3 factors by variance explained: {top_factors}\")\n",
    "\n",
    "# Show variance for top factors\n",
    "total_var_per_factor = np.sum([\n",
    "    variance_explained[view] for view in variance_explained.keys()\n",
    "], axis=0)\n",
    "\n",
    "print(\"\\nTotal variance explained by each factor:\")\n",
    "for i, var in enumerate(total_var_per_factor):\n",
    "    status = \"(TOP)\" if i in top_factors else \"\"\n",
    "    print(f\"  Factor {i}: {var:.3f} {status}\")"
   ]
  },
  {
   "cell_type": "markdown",
   "metadata": {},
   "source": [
    "## 8. Conclusions\n",
    "\n",
    "This tutorial demonstrated the complete MuVIcell workflow:\n",
    "\n",
    "1. **Data Generation**: We created synthetic multi-view data with 3 views (5, 10, 15 features) and 200 cells\n",
    "2. **Data Structure**: Added realistic latent factor structure to simulate biological processes\n",
    "3. **Preprocessing**: Normalized data, identified highly variable genes, and prepared for MuVI\n",
    "4. **MuVI Analysis**: Ran multi-view integration to identify latent factors (simulated)\n",
    "5. **Factor Analysis**: Characterized factors, identified associations with metadata, and clustered cells\n",
    "6. **Visualization**: Created comprehensive plots to understand factor structure and biological meaning\n",
    "\n",
    "### Key Features of MuVIcell:\n",
    "\n",
    "- **Easy synthetic data generation** for testing and development\n",
    "- **Comprehensive preprocessing** pipeline with sensible defaults\n",
    "- **Streamlined MuVI integration** with helper functions\n",
    "- **Rich analysis toolkit** for factor interpretation\n",
    "- **Publication-ready visualizations** using plotnine\n",
    "- **Extensive testing** to ensure reliability\n",
    "\n",
    "### Next Steps:\n",
    "\n",
    "1. **Load real data**: Replace synthetic data with your own multi-view datasets\n",
    "2. **Customize preprocessing**: Adjust normalization and filtering parameters for your data type\n",
    "3. **Optimize MuVI parameters**: Tune the number of factors and likelihood models\n",
    "4. **Pathway analysis**: Use factor loadings for gene set enrichment analysis\n",
    "5. **Biological interpretation**: Connect factors to known biological processes"
   ]
  }
 ],
 "metadata": {
  "kernelspec": {
   "display_name": "Python 3",
   "language": "python",
   "name": "python3"
  },
  "language_info": {
   "codemirror_mode": {
    "name": "ipython",
    "version": 3
   },
   "file_extension": ".py",
   "mimetype": "text/x-python",
   "name": "python",
   "nbconvert_exporter": "python",
   "pygments_lexer": "ipython3",
   "version": "3.9.0"
  }
 },
 "nbformat": 4,
 "nbformat_minor": 4
}