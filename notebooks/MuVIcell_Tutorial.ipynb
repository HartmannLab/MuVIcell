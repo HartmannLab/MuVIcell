{
 "cells": [
  {
   "cell_type": "markdown",
   "metadata": {},
   "source": [
    "# MuVIcell Tutorial: Multi-View Integration for Sample-Aggregated Single-Cell Data\n",
    "\n",
    "This notebook demonstrates how to use the MuVIcell package for multi-view integration and analysis of sample-aggregated single-cell data using MuVI (Multi-View Integration).\n",
    "\n",
    "## Overview\n",
    "\n",
    "MuVIcell provides a streamlined workflow for:\n",
    "1. **Generating/Loading** multi-view data in muon format (samples x features)\n",
    "2. **Preprocessing** data for MuVI analysis\n",
    "3. **Running MuVI** to identify latent factors using `muvi.tl.from_mdata`\n",
    "4. **Analyzing** and interpreting factors\n",
    "5. **Visualizing** results\n",
    "\n",
    "Note: Each row represents a **sample** (not individual cells) and views contain **cell type aggregated data per sample**."
   ]
  },
  {
   "cell_type": "code",
   "execution_count": null,
   "metadata": {},
   "outputs": [],
   "source": [
    "import muvicell\n",
    "muvicell.__version__"
   ]
  },
  {
   "cell_type": "code",
   "execution_count": null,
   "metadata": {},
   "outputs": [],
   "source": [
    "import tensordict\n",
    "tensordict.__version__"
   ]
  },
  {
   "cell_type": "code",
   "execution_count": null,
   "metadata": {},
   "outputs": [],
   "source": [
    "import numpy as np\n",
    "import pandas as pd\n",
    "import muon as mu\n",
    "import warnings\n",
    "warnings.filterwarnings('ignore')\n",
    "\n",
    "from plotnine import *\n",
    "import scanpy as sc\n",
    "\n",
    "# Import muvicell modules\n",
    "from muvicell import synthetic, preprocessing, analysis, visualization\n",
    "\n",
    "# Import MuVI directly to show compatibility\n",
    "import muvi"
   ]
  },
  {
   "cell_type": "code",
   "execution_count": null,
   "metadata": {},
   "outputs": [],
   "source": [
    "device = \"cpu\"\n",
    "try:\n",
    "    device = f\"cuda:{muvi.get_free_gpu_idx()}\"\n",
    "except Exception as e:\n",
    "    print(e)"
   ]
  },
  {
   "cell_type": "markdown",
   "metadata": {},
   "source": [
    "## 1. Generate Synthetic Multi-View Data\n",
    "\n",
    "Generate synthetic data with 3 views (5, 10, 15 features) and 200 samples:"
   ]
  },
  {
   "cell_type": "code",
   "execution_count": null,
   "metadata": {},
   "outputs": [],
   "source": [
    "# Generate synthetic multi-view data (3 views matching 3 true factors)\n",
    "mdata = synthetic.generate_synthetic_data(\n",
    "    n_samples=200,\n",
    "    view_configs={\n",
    "        'Cell Type 1': {'n_vars': 5, 'sparsity': 0.15},\n",
    "        'Cell Type 2': {'n_vars': 10, 'sparsity': 0.25},\n",
    "        'Cell Type 3': {'n_vars': 15, 'sparsity': 0.35}\n",
    "    }\n",
    ")\n",
    "\n",
    "print(f\"Generated synthetic data:\")\n",
    "print(f\"- Samples: {mdata.n_obs}\")\n",
    "print(f\"- Views: {len(mdata.mod)} ({', '.join([f'{k}: {v.n_vars} features' for k, v in mdata.mod.items()])})\")\n",
    "print(f\"- Total features: {sum(v.n_vars for v in mdata.mod.values())}\")"
   ]
  },
  {
   "cell_type": "markdown",
   "metadata": {},
   "source": [
    "## 2. Add Latent Factor Structure\n",
    "\n",
    "Add realistic latent factor structure to the synthetic data:"
   ]
  },
  {
   "cell_type": "code",
   "execution_count": null,
   "metadata": {},
   "outputs": [],
   "source": [
    "# Add latent structure with 3 factors (matching n_true_factors)\n",
    "mdata_structured = synthetic.add_latent_structure(\n",
    "    mdata, \n",
    "    n_latent_factors = 3,\n",
    "    factor_variance = [0.5, 0.4, 0.3],\n",
    "    structure_strength = 1.0,\n",
    "    baseline_strength = 0.6\n",
    ")\n",
    "\n",
    "print(f\"Sample metadata columns: {list(mdata_structured.obs.columns)}\")"
   ]
  },
  {
   "cell_type": "code",
   "execution_count": null,
   "metadata": {},
   "outputs": [],
   "source": [
    "for mod in mdata_structured.mod:\n",
    "    # Highly variable features can be used if there's enough of them\n",
    "    sc.pp.pca(mdata_structured[mod], \n",
    "              use_highly_variable=False)\n",
    "    sc.pp.neighbors(mdata_structured[mod])\n",
    "\n",
    "mu.pp.neighbors(mdata_structured)"
   ]
  },
  {
   "cell_type": "code",
   "execution_count": null,
   "metadata": {},
   "outputs": [],
   "source": [
    "# Copy factor loadings to single view\n",
    "for var in ['sim_factor_1', 'sim_factor_2', 'sim_factor_3']:\n",
    "    mdata_structured[mod].obs[var] = mdata_structured.obs[var]\n",
    "\n",
    "sc.tl.umap(mdata_structured[mod])\n",
    "sc.pl.umap(mdata_structured[mod], color=['batch', \n",
    "                                        'sim_factor_1',\n",
    "                                        'sim_factor_2',\n",
    "                                        'sim_factor_3'])"
   ]
  },
  {
   "cell_type": "code",
   "execution_count": null,
   "metadata": {},
   "outputs": [],
   "source": [
    "mu.tl.umap(mdata_structured)\n",
    "mu.pl.umap(mdata_structured, wspace=0.3, color=['batch', \n",
    "                                                'sim_factor_1',\n",
    "                                                'sim_factor_2',\n",
    "                                                'sim_factor_3'])"
   ]
  },
  {
   "cell_type": "markdown",
   "metadata": {},
   "source": [
    "With these parameters, we create 3 latent factors with specified variances, a strong structured signal, and a moderate baseline signal across all features."
   ]
  },
  {
   "cell_type": "markdown",
   "metadata": {},
   "source": [
    "## 3. Preprocess Data for MuVI\n",
    "\n",
    "Apply preprocessing pipeline (optimized for synthetic data):"
   ]
  },
  {
   "cell_type": "code",
   "execution_count": null,
   "metadata": {},
   "outputs": [],
   "source": [
    "# Preprocess for MuVI analysis\n",
    "mdata_processed = preprocessing.preprocess_for_muvi(\n",
    "    mdata_structured,\n",
    "    filter_cells=False,  # Don't filter synthetic data\n",
    "    filter_genes=False,  # Don't filter synthetic data\n",
    "    normalize=True,\n",
    "    find_hvg=False,      # Skip HVG for synthetic data\n",
    "    subset_hvg=False\n",
    ")\n",
    "\n",
    "print(f\"Preprocessed data shape: {mdata_processed.shape}\")\n",
    "print(\"Data ready for MuVI analysis\")"
   ]
  },
  {
   "cell_type": "markdown",
   "metadata": {},
   "source": [
    "## 4. Run MuVI Analysis\n",
    "\n",
    "Run MuVI using the exact same API as the original analysis, with 3 factors to match our synthetic data:"
   ]
  },
  {
   "cell_type": "code",
   "execution_count": null,
   "metadata": {},
   "outputs": [],
   "source": [
    "# Run MuVI using the standard API\n",
    "model = muvi.tl.from_mdata(\n",
    "    mdata_processed,\n",
    "    n_factors=3,\n",
    "    nmf=False,\n",
    "    device=device\n",
    ")\n",
    "\n",
    "# Fit the model\n",
    "model.fit()\n",
    "\n",
    "print(f\"MuVI model fitted with {model.n_factors} factors\")"
   ]
  },
  {
   "cell_type": "code",
   "execution_count": null,
   "metadata": {},
   "outputs": [],
   "source": [
    "# Display variance explained\n",
    "r2_pool = []\n",
    "for vn in model.get_factor_loadings().keys():\n",
    "    rec = model.get_factor_scores() @ model.get_factor_loadings()[vn]\n",
    "    r2 = pd.DataFrame({'x': mdata_processed[vn].X.flatten(), \n",
    "                       'y': rec.flatten()}).corr()\n",
    "    r2_pool.append(r2.iloc[0,1])\n",
    "print(f\"Macro R2: {np.mean(np.square(r2_pool))}\")\n",
    "\n",
    "# Check factor scores\n",
    "factor_scores = model.get_factor_scores()\n",
    "print(f\"Factor scores shape: {factor_scores.shape}\")"
   ]
  },
  {
   "cell_type": "markdown",
   "metadata": {},
   "source": [
    "## (Bonus) Confirm the factors recovered match the simulation parameters\n",
    "This is only possible here since we generated the data ourselves, and cannot be done in real applications."
   ]
  },
  {
   "cell_type": "code",
   "execution_count": null,
   "metadata": {},
   "outputs": [],
   "source": [
    "factors_df = pd.DataFrame(\n",
    "    np.hstack([mdata_processed.obsm['true_factors'], factor_scores]),\n",
    "    columns=[f\"True_Factor_{i+1}\" for i in range(3)] + [f\"MuVI_Factor_{i+1}\" for i in range(model.n_factors)]\n",
    ")\n",
    "corr_factors = factors_df.corr(method='spearman')\n",
    "corr_factors"
   ]
  },
  {
   "cell_type": "markdown",
   "metadata": {},
   "source": [
    "We see that many of the true factors are well recovered, with high positive/negative correlation (> 0.5) between true and inferred factor scores. Some effects are split across multiple inferred factors, as different combinations of factors can explain the variance if they are independent."
   ]
  },
  {
   "cell_type": "markdown",
   "metadata": {},
   "source": [
    "## 5. Characterize Factors\n",
    "Identify top genes contributing to each factor:"
   ]
  },
  {
   "cell_type": "code",
   "execution_count": null,
   "metadata": {},
   "outputs": [],
   "source": []
  },
  {
   "cell_type": "markdown",
   "metadata": {},
   "source": [
    "## 6. Analyze Factor Associations\n",
    "\n",
    "Test associations between factors and sample metadata:"
   ]
  },
  {
   "cell_type": "code",
   "execution_count": null,
   "metadata": {},
   "outputs": [],
   "source": [
    "# Identify factor associations with metadata\n",
    "associations = analysis.identify_factor_associations(\n",
    "    model,\n",
    "    categorical_test='kruskal'\n",
    ")\n",
    "\n",
    "print(\"Factor-metadata associations:\")\n",
    "if len(associations) > 0:\n",
    "    significant = associations[associations['p_value'] < 0.05]\n",
    "    print(f\"Found {len(significant)} significant associations (p < 0.05)\")\n",
    "    if len(significant) > 0:\n",
    "        print(significant[['factor', 'metadata', 'test', 'p_value']].head())\n",
    "else:\n",
    "    print(\"No associations found\")"
   ]
  },
  {
   "cell_type": "markdown",
   "metadata": {},
   "source": [
    "## 7. Cluster Samples by Factors\n",
    "\n",
    "Cluster samples based on their factor scores:"
   ]
  },
  {
   "cell_type": "code",
   "execution_count": null,
   "metadata": {},
   "outputs": [],
   "source": [
    "# Cluster samples based on factor scores\n",
    "clusters = analysis.cluster_cells_by_factors(\n",
    "    model,\n",
    "    factors_to_use=None,  # Use all factors\n",
    "    n_clusters=3\n",
    ")\n",
    "\n",
    "print(f\"Sample clustering results:\")\n",
    "print(f\"Cluster distribution: {np.bincount(clusters)}\")\n",
    "print(f\"Number of clusters: {len(np.unique(clusters))}\")"
   ]
  },
  {
   "cell_type": "markdown",
   "metadata": {},
   "source": [
    "## 8. Visualize Results\n",
    "\n",
    "Create publication-ready visualizations:"
   ]
  },
  {
   "cell_type": "code",
   "execution_count": null,
   "metadata": {},
   "outputs": [],
   "source": [
    "# 1. Variance explained by factors\n",
    "p1 = visualization.plot_variance_explained(model, max_factors=3)\n",
    "print(\"Variance explained by factors:\")\n",
    "p1.show()"
   ]
  },
  {
   "cell_type": "code",
   "execution_count": null,
   "metadata": {},
   "outputs": [],
   "source": [
    "# 2. Factor scores colored by cell type\n",
    "p2 = visualization.plot_factor_scores(model, factors=(0, 1), color_by='cell_type')\n",
    "print(\"Factor scores (Factor 0 vs Factor 1):\")\n",
    "p2.show()"
   ]
  },
  {
   "cell_type": "code",
   "execution_count": null,
   "metadata": {},
   "outputs": [],
   "source": [
    "# 3. Factor loadings for view1\n",
    "p3 = visualization.plot_factor_loadings(model, 'view1', factor=0, top_genes=5)\n",
    "print(\"Top gene loadings for Factor 0 in view1:\")\n",
    "p3.show()"
   ]
  },
  {
   "cell_type": "code",
   "execution_count": null,
   "metadata": {},
   "outputs": [],
   "source": [
    "# 4. Factor activity comparison across cell types\n",
    "p4 = visualization.plot_factor_comparison(\n",
    "    model,\n",
    "    factors=[0, 1, 2],\n",
    "    group_by='cell_type',\n",
    "    plot_type='boxplot'\n",
    ")\n",
    "print(\"Factor activity by cell type:\")\n",
    "p4.show()"
   ]
  }
 ],
 "metadata": {
  "kernelspec": {
   "display_name": "muvicell",
   "language": "python",
   "name": "python3"
  },
  "language_info": {
   "codemirror_mode": {
    "name": "ipython",
    "version": 3
   },
   "file_extension": ".py",
   "mimetype": "text/x-python",
   "name": "python",
   "nbconvert_exporter": "python",
   "pygments_lexer": "ipython3",
   "version": "3.12.8"
  }
 },
 "nbformat": 4,
 "nbformat_minor": 2
}
