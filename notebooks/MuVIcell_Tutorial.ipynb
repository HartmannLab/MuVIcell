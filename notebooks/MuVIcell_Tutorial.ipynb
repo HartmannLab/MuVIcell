{
 "cells": [
  {
   "cell_type": "markdown",
   "metadata": {},
   "source": [
    "# MuVIcell Tutorial: Multi-View Integration for Sample-Aggregated Single-Cell Data\n",
    "\n",
    "This notebook demonstrates how to use the MuVIcell package for multi-view integration and analysis of sample-aggregated single-cell data using MuVI (Multi-View Integration).\n",
    "\n",
    "## Overview\n",
    "\n",
    "MuVIcell provides a streamlined workflow for:\n",
    "1. **Generating/Loading** multi-view data in muon format (samples x features)\n",
    "2. **Preprocessing** data for MuVI analysis\n",
    "3. **Running MuVI** to identify latent factors using `muvi.tl.from_mdata`\n",
    "4. **Analyzing** and interpreting factors\n",
    "5. **Visualizing** results\n",
    "\n",
    "Note: Each row represents a **sample** (not individual cells) and views contain **cell type aggregated data per sample**."
   ]
  },
  {
   "cell_type": "code",
   "execution_count": null,
   "metadata": {},
   "outputs": [],
   "source": [
    "import numpy as np\n",
    "import pandas as pd\n",
    "import muon as mu\n",
    "import warnings\n",
    "warnings.filterwarnings('ignore')\n",
    "\n",
    "# Import muvicell modules\n",
    "from muvicell import synthetic, preprocessing, analysis, visualization\n",
    "\n",
    "# Import MuVI directly to show compatibility\n",
    "try:\n",
    "    import muvi\n",
    "    import muvi.tl\n",
    "    MUVI_AVAILABLE = True\n",
    "    print(\"MuVI is available\")\n",
    "except ImportError:\n",
    "    MUVI_AVAILABLE = False\n",
    "    print(\"MuVI not available - using mock implementation\")\n",
    "\n",
    "print(f\"Python version compatible with MuVI: {MUVI_AVAILABLE}\")"
   ]
  },
  {
   "cell_type": "markdown",
   "metadata": {},
   "source": [
    "## 1. Generate Synthetic Multi-View Data\n",
    "\n",
    "Generate synthetic data with 3 views (5, 10, 15 features) and 200 samples:"
   ]
  },
  {
   "cell_type": "code",
   "execution_count": null,
   "metadata": {},
   "outputs": [],
   "source": [
    "# Generate synthetic multi-view data (3 views matching 3 true factors)\n",
    "mdata = synthetic.generate_synthetic_data(\n",
    "    n_samples=200,\n",
    "    n_true_factors=3,  # Match number of factors we'll infer\n",
    "    view_configs={\n",
    "        'view1': {'n_vars': 5, 'sparsity': 0.3},\n",
    "        'view2': {'n_vars': 10, 'sparsity': 0.4},\n",
    "        'view3': {'n_vars': 15, 'sparsity': 0.5}\n",
    "    }\n",
    ")\n",
    "\n",
    "print(f\"Generated synthetic data:\")\n",
    "print(f\"- Samples: {mdata.n_obs}\")\n",
    "print(f\"- Views: {len(mdata.mod)} ({', '.join([f'{k}: {v.n_vars} features' for k, v in mdata.mod.items()])})\")\n",
    "print(f\"- Total features: {sum(v.n_vars for v in mdata.mod.values())}\")"
   ]
  },
  {
   "cell_type": "markdown",
   "metadata": {},
   "source": [
    "## 2. Add Latent Factor Structure\n",
    "\n",
    "Add realistic latent factor structure to the synthetic data:"
   ]
  },
  {
   "cell_type": "code",
   "execution_count": null,
   "metadata": {},
   "outputs": [],
   "source": [
    "# Add latent structure with 3 factors (matching n_true_factors)\n",
    "mdata_structured = synthetic.add_latent_structure(\n",
    "    mdata, \n",
    "    n_latent_factors=3\n",
    ")\n",
    "\n",
    "print(f\"Sample metadata columns: {list(mdata_structured.obs.columns)}\")\n",
    "print(f\"Unique cell types: {mdata_structured.obs['cell_type'].unique()}\")\n",
    "print(f\"Unique conditions: {mdata_structured.obs['condition'].unique()}\")"
   ]
  },
  {
   "cell_type": "markdown",
   "metadata": {},
   "source": [
    "## 3. Preprocess Data for MuVI\n",
    "\n",
    "Apply preprocessing pipeline (optimized for synthetic data):"
   ]
  },
  {
   "cell_type": "code",
   "execution_count": null,
   "metadata": {},
   "outputs": [],
   "source": [
    "# Preprocess for MuVI analysis\n",
    "mdata_processed = preprocessing.preprocess_for_muvi(\n",
    "    mdata_structured,\n",
    "    filter_cells=False,  # Don't filter synthetic data\n",
    "    filter_genes=False,  # Don't filter synthetic data\n",
    "    normalize=True,\n",
    "    find_hvg=False,      # Skip HVG for synthetic data\n",
    "    subset_hvg=False\n",
    ")\n",
    "\n",
    "print(f\"Preprocessed data shape: {mdata_processed.shape}\")\n",
    "print(\"Data ready for MuVI analysis\")"
   ]
  },
  {
   "cell_type": "markdown",
   "metadata": {},
   "source": [
    "## 4. Run MuVI Analysis\n",
    "\n",
    "Run MuVI using the exact same API as the original analysis, with 3 factors to match our synthetic data:"
   ]
  },
  {
   "cell_type": "code",
   "execution_count": null,
   "metadata": {},
   "outputs": [],
   "source": [
    "# Run MuVI using the exact same pattern as original analysis\n",
    "if MUVI_AVAILABLE:\n",
    "    # Real MuVI using the standard API\n",
    "    model = muvi.tl.from_mdata(\n",
    "        mdata_processed,\n",
    "        n_factors=3,  # Match number of true factors\n",
    "        nmf=False,\n",
    "        device='cpu'\n",
    "    )\n",
    "    \n",
    "    # Fit the model\n",
    "    model.fit()\n",
    "    \n",
    "    print(f\"MuVI model fitted with {model.n_factors} factors\")\n",
    "    \n",
    "    # Display variance explained\n",
    "    var_exp = muvi.tl.variance_explained(model)\n",
    "    print(f\"Average variance explained: {np.mean(list(var_exp[0].values())):.3f}\")\n",
    "    \n",
    "else:\n",
    "    # Use mock implementation for demonstration\n",
    "    from muvicell.muvi_runner import _create_mock_muvi_model\n",
    "    model = _create_mock_muvi_model(mdata_processed, n_factors=3)\n",
    "    model.fit()\n",
    "    print(\"Mock MuVI model fitted with 3 factors\")\n",
    "\n",
    "# Check factor scores\n",
    "factor_scores = model.get_factor_scores()\n",
    "print(f\"Factor scores shape: {factor_scores.shape}\")"
   ]
  },
  {
   "cell_type": "markdown",
   "metadata": {},
   "source": [
    "## 5. Characterize Factors\n",
    "\n",
    "Identify top genes contributing to each factor:"
   ]
  },
  {
   "cell_type": "code",
   "execution_count": null,
   "metadata": {},
   "outputs": [],
   "source": [
    "# Characterize factors to identify top contributing genes\n",
    "factor_genes = analysis.characterize_factors(\n",
    "    model, \n",
    "    top_genes_per_factor=3  # Get top 3 genes per factor for demo\n",
    ")\n",
    "\n",
    "print(\"Top genes for each factor:\")\n",
    "for view_name, view_genes in factor_genes.items():\n",
    "    print(f\"\\n{view_name}:\")\n",
    "    if len(view_genes) > 0:\n",
    "        for factor in view_genes['factor'].unique():\n",
    "            factor_data = view_genes[view_genes['factor'] == factor]\n",
    "            genes = ', '.join(factor_data['gene'].head(3).values)\n",
    "            print(f\"  Factor {factor}: {genes}\")\n",
    "    else:\n",
    "        print(\"  No significant genes found\")"
   ]
  },
  {
   "cell_type": "markdown",
   "metadata": {},
   "source": [
    "## 6. Analyze Factor Associations\n",
    "\n",
    "Test associations between factors and sample metadata:"
   ]
  },
  {
   "cell_type": "code",
   "execution_count": null,
   "metadata": {},
   "outputs": [],
   "source": [
    "# Identify factor associations with metadata\n",
    "associations = analysis.identify_factor_associations(\n",
    "    model,\n",
    "    categorical_test='kruskal'\n",
    ")\n",
    "\n",
    "print(\"Factor-metadata associations:\")\n",
    "if len(associations) > 0:\n",
    "    significant = associations[associations['p_value'] < 0.05]\n",
    "    print(f\"Found {len(significant)} significant associations (p < 0.05)\")\n",
    "    if len(significant) > 0:\n",
    "        print(significant[['factor', 'metadata', 'test', 'p_value']].head())\n",
    "else:\n",
    "    print(\"No associations found\")"
   ]
  },
  {
   "cell_type": "markdown",
   "metadata": {},
   "source": [
    "## 7. Cluster Samples by Factors\n",
    "\n",
    "Cluster samples based on their factor scores:"
   ]
  },
  {
   "cell_type": "code",
   "execution_count": null,
   "metadata": {},
   "outputs": [],
   "source": [
    "# Cluster samples based on factor scores\n",
    "clusters = analysis.cluster_cells_by_factors(\n",
    "    model,\n",
    "    factors_to_use=None,  # Use all factors\n",
    "    n_clusters=3\n",
    ")\n",
    "\n",
    "print(f\"Sample clustering results:\")\n",
    "print(f\"Cluster distribution: {np.bincount(clusters)}\")\n",
    "print(f\"Number of clusters: {len(np.unique(clusters))}\")"
   ]
  },
  {
   "cell_type": "markdown",
   "metadata": {},
   "source": [
    "## 8. Visualize Results\n",
    "\n",
    "Create publication-ready visualizations:"
   ]
  },
  {
   "cell_type": "code",
   "execution_count": null,
   "metadata": {},
   "outputs": [],
   "source": [
    "# 1. Variance explained by factors\n",
    "p1 = visualization.plot_variance_explained(model, max_factors=3)\n",
    "print(\"Variance explained by factors:\")\n",
    "p1.show()"
   ]
  },
  {
   "cell_type": "code",
   "execution_count": null,
   "metadata": {},
   "outputs": [],
   "source": [
    "# 2. Factor scores colored by cell type\n",
    "p2 = visualization.plot_factor_scores(model, factors=(0, 1), color_by='cell_type')\n",
    "print(\"Factor scores (Factor 0 vs Factor 1):\")\n",
    "p2.show()"
   ]
  },
  {
   "cell_type": "code",
   "execution_count": null,
   "metadata": {},
   "outputs": [],
   "source": [
    "# 3. Factor loadings for view1\n",
    "p3 = visualization.plot_factor_loadings(model, 'view1', factor=0, top_genes=5)\n",
    "print(\"Top gene loadings for Factor 0 in view1:\")\n",
    "p3.show()"
   ]
  },
  {
   "cell_type": "code",
   "execution_count": null,
   "metadata": {},
   "outputs": [],
   "source": [
    "# 4. Factor activity comparison across cell types\n",
    "p4 = visualization.plot_factor_comparison(\n",
    "    model,\n",
    "    factors=[0, 1, 2],\n",
    "    group_by='cell_type',\n",
    "    plot_type='boxplot'\n",
    ")\n",
    "print(\"Factor activity by cell type:\")\n",
    "p4.show()"
   ]
  },
  {
   "cell_type": "markdown",
   "metadata": {},
   "source": [
    "## 9. Summary Analysis\n",
    "\n",
    "Calculate factor correlations and summary statistics:"
   ]
  },
  {
   "cell_type": "code",
   "execution_count": null,
   "metadata": {},
   "outputs": [],
   "source": [
    "# Calculate factor correlations\n",
    "factor_corr = analysis.calculate_factor_correlations(model)\n",
    "print(\"Factor correlation matrix:\")\n",
    "print(factor_corr.round(3))\n",
    "\n",
    "# Summary statistics\n",
    "factor_scores = model.get_factor_scores()\n",
    "print(f\"\\nFactor scores summary:\")\n",
    "print(f\"- Mean factor scores: {np.mean(factor_scores, axis=0).round(3)}\")\n",
    "print(f\"- Std factor scores: {np.std(factor_scores, axis=0).round(3)}\")\n",
    "\n",
    "print(f\"\\nAnalysis complete! Successfully identified {factor_scores.shape[1]} latent factors from {sum(v.n_vars for v in mdata_processed.mod.values())} total features across {len(mdata_processed.mod)} views.\")"
   ]
  }
 ],
 "metadata": {
  "kernelspec": {
   "display_name": "Python 3",
   "language": "python",
   "name": "python3"
  },
  "language_info": {
   "codemirror_mode": {
    "name": "ipython",
    "version": 3
   },
   "file_extension": ".py",
   "mimetype": "text/x-python",
   "name": "python",
   "nbconvert_exporter": "python",
   "pygments_lexer": "ipython3",
   "version": "3.10.0"
  }
 },
 "nbformat": 4,
 "nbformat_minor": 2
}