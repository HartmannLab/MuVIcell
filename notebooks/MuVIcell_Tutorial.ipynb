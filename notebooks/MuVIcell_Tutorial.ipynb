{
 "cells": [
  {
   "cell_type": "markdown",
   "metadata": {},
   "source": [
    "# MuVIcell Tutorial: Multi-View Integration for Sample-Aggregated Single-Cell Data\n",
    "\n",
    "This notebook demonstrates how to use the MuVIcell package for multi-view integration and analysis of sample-aggregated single-cell data using MuVI (Multi-View Integration).\n",
    "\n",
    "## Overview\n",
    "\n",
    "MuVIcell provides a streamlined workflow for:\n",
    "1. **Generating/Loading** multi-view data in muon format (samples x features)\n",
    "2. **Preprocessing** data for MuVI analysis\n",
    "3. **Running MuVI** to identify latent factors using `muvi.tl.from_mdata`\n",
    "4. **Analyzing** and interpreting factors\n",
    "5. **Visualizing** results\n",
    "\n",
    "Note: Each row represents a **sample** (not individual cells) and views contain **cell type aggregated data per sample**."
   ]
  },
  {
   "cell_type": "code",
   "execution_count": null,
   "metadata": {},
   "outputs": [],
   "source": [
    "import muvicell\n",
    "muvicell.__version__"
   ]
  },
  {
   "cell_type": "code",
   "execution_count": null,
   "metadata": {},
   "outputs": [],
   "source": [
    "import tensordict\n",
    "tensordict.__version__"
   ]
  },
  {
   "cell_type": "code",
   "execution_count": null,
   "metadata": {},
   "outputs": [],
   "source": [
    "import numpy as np\n",
    "import pandas as pd\n",
    "import muon as mu\n",
    "import warnings\n",
    "warnings.filterwarnings('ignore')\n",
    "\n",
    "from plotnine import *\n",
    "import scanpy as sc\n",
    "\n",
    "# Import muvicell modules\n",
    "from muvicell import synthetic, preprocessing, analysis, visualization\n",
    "\n",
    "# Import MuVI directly to show compatibility\n",
    "import muvi"
   ]
  },
  {
   "cell_type": "code",
   "execution_count": null,
   "metadata": {},
   "outputs": [],
   "source": [
    "device = \"cpu\"\n",
    "try:\n",
    "    device = f\"cuda:{muvi.get_free_gpu_idx()}\"\n",
    "except Exception as e:\n",
    "    print(e)"
   ]
  },
  {
   "cell_type": "markdown",
   "metadata": {},
   "source": [
    "## 1. Generate Synthetic Multi-View Data\n",
    "\n",
    "Generate synthetic data with 3 views (5, 10, 15 features) and 200 samples:"
   ]
  },
  {
   "cell_type": "code",
   "execution_count": null,
   "metadata": {},
   "outputs": [],
   "source": [
    "# Generate synthetic multi-view data (3 views matching 3 true factors)\n",
    "mdata = synthetic.generate_synthetic_data(\n",
    "    n_samples=200,\n",
    "    view_configs={\n",
    "        'Cell Type 1': {'n_vars': 5, 'sparsity': 0.15},\n",
    "        'Cell Type 2': {'n_vars': 10, 'sparsity': 0.25},\n",
    "        'Cell Type 3': {'n_vars': 15, 'sparsity': 0.35}\n",
    "    }\n",
    ")\n",
    "\n",
    "print(f\"Generated synthetic data:\")\n",
    "print(f\"- Samples: {mdata.n_obs}\")\n",
    "print(f\"- Views: {len(mdata.mod)} ({', '.join([f'{k}: {v.n_vars} features' for k, v in mdata.mod.items()])})\")\n",
    "print(f\"- Total features: {sum(v.n_vars for v in mdata.mod.values())}\")"
   ]
  },
  {
   "cell_type": "markdown",
   "metadata": {},
   "source": [
    "## 2. Add Latent Factor Structure\n",
    "\n",
    "Add realistic latent factor structure to the synthetic data:"
   ]
  },
  {
   "cell_type": "code",
   "execution_count": null,
   "metadata": {},
   "outputs": [],
   "source": [
    "# Add latent structure with 3 factors (matching n_true_factors)\n",
    "mdata_structured = synthetic.add_latent_structure(\n",
    "    mdata, \n",
    "    n_latent_factors = 3,\n",
    "    factor_variance = [0.5, 0.4, 0.3],\n",
    "    structure_strength = 1.0,\n",
    "    baseline_strength = 0.6\n",
    ")\n",
    "\n",
    "print(f\"Sample metadata columns: {list(mdata_structured.obs.columns)}\")"
   ]
  },
  {
   "cell_type": "code",
   "execution_count": null,
   "metadata": {},
   "outputs": [],
   "source": [
    "for mod in mdata_structured.mod:\n",
    "    # Highly variable features can be used if there's enough of them\n",
    "    sc.pp.pca(mdata_structured[mod], \n",
    "              use_highly_variable=False)\n",
    "    sc.pp.neighbors(mdata_structured[mod])\n",
    "\n",
    "mu.pp.neighbors(mdata_structured)"
   ]
  },
  {
   "cell_type": "code",
   "execution_count": null,
   "metadata": {},
   "outputs": [],
   "source": [
    "# Copy factor loadings to single view\n",
    "for var in ['sim_factor_1', 'sim_factor_2', 'sim_factor_3']:\n",
    "    mdata_structured[mod].obs[var] = mdata_structured.obs[var]\n",
    "\n",
    "sc.tl.umap(mdata_structured[mod])\n",
    "sc.pl.umap(mdata_structured[mod], color=['batch', \n",
    "                                        'sim_factor_1',\n",
    "                                        'sim_factor_2',\n",
    "                                        'sim_factor_3'])"
   ]
  },
  {
   "cell_type": "code",
   "execution_count": null,
   "metadata": {},
   "outputs": [],
   "source": [
    "mu.tl.umap(mdata_structured)\n",
    "mu.pl.umap(mdata_structured, wspace=0.3, color=['batch', \n",
    "                                                'sim_factor_1',\n",
    "                                                'sim_factor_2',\n",
    "                                                'sim_factor_3'])"
   ]
  },
  {
   "cell_type": "markdown",
   "metadata": {},
   "source": [
    "With these parameters, we create 3 latent factors with specified variances, a strong structured signal, and a moderate baseline signal across all features."
   ]
  },
  {
   "cell_type": "code",
   "execution_count": null,
   "metadata": {},
   "outputs": [],
   "source": [
    "# Let's say an exposure variable is highly correlated with factor 1\n",
    "mdata_structured.obs['exposure'] = [np.random.choice([\"Hi\", \"Medium\", \"Low\"], p = [0.7,0.2,0.1]) if x > 1 else\n",
    "                                    np.random.choice([\"Hi\", \"Medium\", \"Low\"], p = [0.1,0.7,0.2]) if x > 0 else\n",
    "                                    np.random.choice([\"Hi\", \"Medium\", \"Low\"], p = [0.1,0.2,0.7]) \n",
    "                                    for x in mdata_structured.obs['sim_factor_1']]\n",
    "mdata_structured.obs['exposure'] = pd.Categorical(mdata_structured.obs['exposure'], \n",
    "                                                  categories=[\"Low\", \"Medium\", \"Hi\"], \n",
    "                                                  ordered=True)\n",
    "mdata_structured.obs['exposure'].value_counts()"
   ]
  },
  {
   "cell_type": "markdown",
   "metadata": {},
   "source": [
    "## 3. Preprocess Data for MuVI\n",
    "\n",
    "Apply preprocessing pipeline (optimized for synthetic data):"
   ]
  },
  {
   "cell_type": "code",
   "execution_count": null,
   "metadata": {},
   "outputs": [],
   "source": [
    "# Preprocess for MuVI analysis\n",
    "mdata_processed = preprocessing.preprocess_for_muvi(\n",
    "    mdata_structured,\n",
    "    filter_cells=False,  # Don't filter synthetic data\n",
    "    filter_genes=False,  # Don't filter synthetic data\n",
    "    normalize=True,\n",
    "    find_hvg=False,      # Skip HVG for synthetic data\n",
    "    subset_hvg=False\n",
    ")\n",
    "\n",
    "print(f\"Preprocessed data shape: {mdata_processed.shape}\")\n",
    "print(\"Data ready for MuVI analysis\")"
   ]
  },
  {
   "cell_type": "markdown",
   "metadata": {},
   "source": [
    "## 4. Run MuVI Analysis\n",
    "\n",
    "Run MuVI using the exact same API as the original analysis, with 3 factors to match our synthetic data:"
   ]
  },
  {
   "cell_type": "code",
   "execution_count": null,
   "metadata": {},
   "outputs": [],
   "source": [
    "# Run MuVI using the standard API\n",
    "model = muvi.tl.from_mdata(\n",
    "    mdata_processed,\n",
    "    n_factors=3,\n",
    "    nmf=False,\n",
    "    device=device\n",
    ")\n",
    "\n",
    "# Fit the model\n",
    "model.fit()\n",
    "\n",
    "print(f\"MuVI model fitted with {model.n_factors} factors\")"
   ]
  },
  {
   "cell_type": "code",
   "execution_count": null,
   "metadata": {},
   "outputs": [],
   "source": [
    "# Display variance explained\n",
    "r2_pool = []\n",
    "for vn in model.get_factor_loadings().keys():\n",
    "    rec = model.get_factor_scores() @ model.get_factor_loadings()[vn]\n",
    "    r2 = pd.DataFrame({'x': mdata_processed[vn].X.flatten(), \n",
    "                       'y': rec.flatten()}).corr()\n",
    "    r2_pool.append(r2.iloc[0,1])\n",
    "print(f\"Macro R2: {np.mean(np.square(r2_pool))}\")\n",
    "\n",
    "# Check factor scores\n",
    "factor_scores = model.get_factor_scores()\n",
    "print(f\"Factor scores shape: {factor_scores.shape}\")"
   ]
  },
  {
   "cell_type": "markdown",
   "metadata": {},
   "source": [
    "## (Bonus) Confirm the factors recovered match the simulation parameters\n",
    "This is only possible here since we generated the data ourselves, and cannot be done in real applications."
   ]
  },
  {
   "cell_type": "code",
   "execution_count": null,
   "metadata": {},
   "outputs": [],
   "source": [
    "factors_df = pd.DataFrame(\n",
    "    np.hstack([mdata_processed.obsm['true_factors'], factor_scores]),\n",
    "    columns=[f\"True_Factor_{i+1}\" for i in range(3)] + [f\"MuVI_Factor_{i+1}\" for i in range(model.n_factors)]\n",
    ")\n",
    "corr_factors = factors_df.corr(method='spearman')\n",
    "corr_factors"
   ]
  },
  {
   "cell_type": "markdown",
   "metadata": {},
   "source": [
    "We see that many of the true factors are well recovered, with high positive/negative correlation (> 0.5) between true and inferred factor scores. Some effects are split across multiple inferred factors, as different combinations of factors can explain the variance if they are independent."
   ]
  },
  {
   "cell_type": "markdown",
   "metadata": {},
   "source": [
    "## 5. Characterize Factors\n",
    "Identify top genes contributing to each factor:"
   ]
  },
  {
   "cell_type": "code",
   "execution_count": null,
   "metadata": {},
   "outputs": [],
   "source": [
    "# Import analysis and visualization functions from MuVIcell modules\n",
    "from muvicell.analysis import (\n",
    "    muvi_reconstruction_info,\n",
    "    muvi_variance_by_view_info,\n",
    "    muvi_variable_loadings_info,\n",
    "    muvi_factor_scores_info,\n",
    "    muvi_kruskal_info,\n",
    "    muvi_kendall_info,\n",
    "    muvi_top_features_by_view_info,\n",
    "    muvi_top_features_by_class_info,\n",
    "    muvi_selected_features_info,\n",
    "    muvi_confidence_ellipses_info\n",
    ")\n",
    "\n",
    "from muvicell.visualization import (\n",
    "    muvi_reconstruction_plot,\n",
    "    muvi_variance_by_view_plot,\n",
    "    muvi_plot_top_loadings_heatmap,\n",
    "    muvi_selected_features_plot,\n",
    "    muvi_violin_plot,\n",
    "    muvi_confidence_ellipses_plot\n",
    ")"
   ]
  },\n",
  {
   "cell_type": "markdown",
   "metadata": {},
   "source": [
    "## 5. Characterize Factors\n",
    "Identify top genes contributing to each factor and analyze factor associations:"
   ]
  },
  {
   "cell_type": "code",
   "execution_count": null,
   "metadata": {},
   "outputs": [],
   "source": [
    "# =============================================================================\n",
    "# Minimal usage examples\n",
    "# =============================================================================\n",
    "# Assuming: model (trained MuVI) and features (MuData)\n",
    "\n",
    "# 1) Reconstruction R2 per view\n",
    "recon = muvi_reconstruction_info(model, mdata_processed, verbosity=1)\n",
    "p1 = muvi_reconstruction_plot(recon[\"by_view\"], title=\"Reconstruction R2 by view\")\n",
    "p1.show()"
   ]
  },
  {
   "cell_type": "code",
   "execution_count": null,
   "metadata": {},
   "outputs": [],
   "source": [
    "# 2) Variance explained by factors per view with marginal sums\n",
    "v_by_view = muvi_variance_by_view_info(model, verbosity=0)\n",
    "p2 = muvi_variance_by_view_plot(v_by_view, subtitle=f\"Macro-R2: {np.round(recon['macro']['R2'], 3)}\")\n",
    "p2.show()"
   ]
  },
  {
   "cell_type": "code",
   "execution_count": null,
   "metadata": {},
   "outputs": [],
   "source": [
    "# 3) Feature class vs factor variance explained\n",
    "# Example feature classes\n",
    "all_vars = mdata_processed.var_names.tolist()\n",
    "\n",
    "feature_type_map = {\n",
    "    \"Pathway 1\": [v for v in all_vars if any(f\"ft_{i}\" in v for i in [0, 1, 2])],\n",
    "    \"Pathway 2\": [v for v in all_vars if any(f\"ft_{i}\" in v for i in [3, 4])],\n",
    "    \"Pathway 3\": [v for v in all_vars if not any(f\"ft_{i}\" in v for i in range(5))]\n",
    "}\n",
    "\n",
    "# Run analysis\n",
    "v_by_class = muvi_featureclass_variance_info(\n",
    "    model,\n",
    "    mdata_processed,\n",
    "    feature_type_map=feature_type_map,\n",
    "    aggregator=\"median\",\n",
    "    verbosity=1\n",
    ")\n",
    "\n",
    "# Plot\n",
    "p3 = muvi_featureclass_variance_plot(v_by_class)\n",
    "p3.show()"
   ]
  },
  {
   "cell_type": "code",
   "execution_count": null,
   "metadata": {},
   "outputs": [],
   "source": [
    "# 4) Variable loadings and top features for a factor\n",
    "var_load = muvi_variable_loadings_info(model, mdata_processed, verbosity=0)\n",
    "p4 = muvi_plot_top_loadings_heatmap(var_load, factor=\"Factor 1\", top_n=30)\n",
    "p4.show()"
   ]
  },
  {
   "cell_type": "code",
   "execution_count": null,
   "metadata": {},
   "outputs": [],
   "source": [
    "# 5) Selected features across factors\n",
    "picked = [(\"Cell Type 1_gene_1\", \"Cell Type 1\"), \n",
    "          (\"Cell Type 2_gene_1\", \"Cell Type 2\"),\n",
    "          (\"Cell Type 3_gene_3\", \"Cell Type 3\"),]\n",
    "picked_long = muvi_selected_features_info(var_load, picked, verbosity=0)\n",
    "p5 = muvi_selected_features_plot(picked_long)\n",
    "p5.show()"
   ]
  },
  {
   "cell_type": "code",
   "execution_count": null,
   "metadata": {},
   "outputs": [],
   "source": [
    "# 6) Scores with clinical covariates and tests\n",
    "clin_variables = [\"Cell Type 1:batch\", \"exposure\"]\n",
    "scores = muvi_factor_scores_info(model, mdata_processed, obs_keys=clin_variables, verbosity=0)\n",
    "\n",
    "for var in clin_variables:\n",
    "    print(f\"Kruskal-Wallis test for {var}\")\n",
    "    kw = muvi_kruskal_info(scores, group_col=var, verbosity=1)\n",
    "    print(f\"Kendall tau test for {var}\") # For ordinal variables\n",
    "    muvi_kendall_info(scores, ordinal_col=var, verbosity=1)\n",
    "    p6 = muvi_violin_plot(scores, factor=\"Factor 2\", group_col=var, pvalue=float(kw[kw.Factor==\"Factor 2\"][\"pvalue\"]))\n",
    "    p6.show()"
   ]
  },
  {
   "cell_type": "code",
   "execution_count": null,
   "metadata": {},
   "outputs": [],
   "source": [
    "# 7) Confidence ellipses for two factors by \n",
    "ell = muvi_confidence_ellipses_info(scores, x_factor=\"Factor 1\", y_factor=\"Factor 2\", group_col=\"exposure\", \n",
    "                                    nstd=2, verbosity=1)\n",
    "p7 = muvi_confidence_ellipses_plot(scores, ell, x_factor=\"Factor 1\", y_factor=\"Factor 2\", group_col=\"exposure\")\n",
    "p7.show()"
   ]
  },
  {
   "cell_type": "code",
   "execution_count": null,
   "metadata": {},
   "outputs": [],
   "source": [
    "# 8) Export top features\n",
    "top_by_view = muvi_top_features_by_view_info(var_load, factors=[\"Factor 1\", \"Factor 2\"], \n",
    "                                             top_per_view=2, verbosity=0)\n",
    "top_ad = muvi_build_selected_anndata(mdata_processed, top_by_view.rename(columns={\"View\": \"View\"}))\n",
    "top_ad.write(\"top_features_multi_pT.h5ad\")\n",
    "top_by_view.to_csv(\"top_features_multi_pT.csv\", index=False)"
   ]
  }
 ],
 "metadata": {
  "kernelspec": {
   "display_name": "muvicell",
   "language": "python",
   "name": "python3"
  },
  "language_info": {
   "codemirror_mode": {
    "name": "ipython",
    "version": 3
   },
   "file_extension": ".py",
   "mimetype": "text/x-python",
   "name": "python",
   "nbconvert_exporter": "python",
   "pygments_lexer": "ipython3",
   "version": "3.12.8"
  }
 },
 "nbformat": 4,
 "nbformat_minor": 2
}
