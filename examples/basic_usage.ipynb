{
 "cells": [
  {
   "cell_type": "markdown",
   "metadata": {},
   "source": [
    "# MuVIcell Basic Usage Example\n",
    "\n",
    "This notebook demonstrates the basic functionality of the MuVIcell package for analyzing multicellular coordination and cell-type specific features.\n",
    "\n",
    "## Installation\n",
    "\n",
    "First, make sure you have installed MuVIcell with the notebook dependencies:\n",
    "\n",
    "```bash\n",
    "# With uv (recommended)\n",
    "uv add muvicell[notebooks]\n",
    "\n",
    "# Or with pip\n",
    "pip install muvicell[notebooks]\n",
    "```"
   ]
  },
  {
   "cell_type": "code",
   "execution_count": null,
   "metadata": {},
   "outputs": [],
   "source": [
    "# Import necessary libraries\n",
    "import numpy as np\n",
    "import pandas as pd\n",
    "import matplotlib.pyplot as plt\n",
    "import seaborn as sns\n",
    "\n",
    "# Import MuVIcell components\n",
    "from muvicell import MuVIcellAnalyzer, load_data, visualize_results\n",
    "from muvicell.utils import generate_sample_data, validate_data, calculate_correlation_matrix\n",
    "\n",
    "# Set up plotting style\n",
    "plt.style.use('default')\n",
    "sns.set_palette(\"husl\")\n",
    "\n",
    "print(\"MuVIcell imported successfully!\")"
   ]
  },
  {
   "cell_type": "markdown",
   "metadata": {},
   "source": [
    "## 1. Generate Sample Data\n",
    "\n",
    "Let's start by generating some sample data to work with:"
   ]
  },
  {
   "cell_type": "code",
   "execution_count": null,
   "metadata": {},
   "outputs": [],
   "source": [
    "# Generate sample data\n",
    "data = generate_sample_data(\n",
    "    n_samples=200,\n",
    "    n_features=8,\n",
    "    n_cell_types=4,\n",
    "    random_state=42\n",
    ")\n",
    "\n",
    "print(f\"Generated data shape: {data.shape}\")\n",
    "print(f\"Columns: {list(data.columns)}\")\n",
    "print(f\"Cell types: {data['cell_type'].unique()}\")\n",
    "\n",
    "# Display first few rows\n",
    "data.head()"
   ]
  },
  {
   "cell_type": "markdown",
   "metadata": {},
   "source": [
    "## 2. Data Validation\n",
    "\n",
    "Before analysis, let's validate our data:"
   ]
  },
  {
   "cell_type": "code",
   "execution_count": null,
   "metadata": {},
   "outputs": [],
   "source": [
    "# Validate the data\n",
    "validation_report = validate_data(data, required_columns=['cell_type'])\n",
    "\n",
    "print(\"Validation Report:\")\n",
    "print(f\"  Shape: {validation_report['shape']}\")\n",
    "print(f\"  Duplicate rows: {validation_report['duplicate_rows']}\")\n",
    "print(f\"  Validation passed: {validation_report['validation_passed']}\")\n",
    "\n",
    "if validation_report['issues']:\n",
    "    print(\"  Issues found:\")\n",
    "    for issue in validation_report['issues']:\n",
    "        print(f\"    - {issue}\")\n",
    "else:\n",
    "    print(\"  No issues found!\")"
   ]
  },
  {
   "cell_type": "markdown",
   "metadata": {},
   "source": [
    "## 3. Initialize MuVIcell Analyzer\n",
    "\n",
    "Now let's create a MuVIcell analyzer instance and load our data:"
   ]
  },
  {
   "cell_type": "code",
   "execution_count": null,
   "metadata": {},
   "outputs": [],
   "source": [
    "# Initialize the analyzer\n",
    "analyzer = MuVIcellAnalyzer(data=data)\n",
    "\n",
    "# Get summary\n",
    "summary = analyzer.get_summary()\n",
    "print(\"Analyzer Summary:\")\n",
    "for key, value in summary.items():\n",
    "    print(f\"  {key}: {value}\")"
   ]
  },
  {
   "cell_type": "markdown",
   "metadata": {},
   "source": [
    "## 4. Data Preprocessing\n",
    "\n",
    "Let's preprocess the data by normalizing features:"
   ]
  },
  {
   "cell_type": "code",
   "execution_count": null,
   "metadata": {},
   "outputs": [],
   "source": [
    "# Preprocess the data\n",
    "processed_data = analyzer.preprocess_data(\n",
    "    normalize=True,\n",
    "    remove_outliers=True,\n",
    "    outlier_threshold=3.0\n",
    ")\n",
    "\n",
    "print(f\"Original data shape: {data.shape}\")\n",
    "print(f\"Processed data shape: {processed_data.shape}\")\n",
    "\n",
    "# Compare distributions before and after preprocessing\n",
    "fig, axes = plt.subplots(1, 2, figsize=(15, 5))\n",
    "\n",
    "# Original data\n",
    "data[['feature_1', 'feature_2', 'feature_3']].hist(bins=20, ax=axes[0], alpha=0.7)\n",
    "axes[0].set_title('Original Data Distribution')\n",
    "\n",
    "# Processed data\n",
    "processed_data[['feature_1', 'feature_2', 'feature_3']].hist(bins=20, ax=axes[1], alpha=0.7)\n",
    "axes[1].set_title('Normalized Data Distribution')\n",
    "\n",
    "plt.tight_layout()\n",
    "plt.show()"
   ]
  },
  {
   "cell_type": "markdown",
   "metadata": {},
   "source": [
    "## 5. Cell-Type Feature Analysis\n",
    "\n",
    "Now let's analyze cell-type specific features:"
   ]
  },
  {
   "cell_type": "code",
   "execution_count": null,
   "metadata": {},
   "outputs": [],
   "source": [
    "# Define feature columns to analyze\n",
    "feature_cols = ['feature_1', 'feature_2', 'feature_3', 'feature_4']\n",
    "\n",
    "# Analyze cell features using different methods\n",
    "mean_results = analyzer.analyze_cell_features(\n",
    "    cell_type_col='cell_type',\n",
    "    feature_cols=feature_cols,\n",
    "    method='mean'\n",
    ")\n",
    "\n",
    "print(\"Mean feature values by cell type:\")\n",
    "for cell_type, features in mean_results.items():\n",
    "    print(f\"\\n{cell_type}:\")\n",
    "    for feature, value in features.items():\n",
    "        print(f\"  {feature}: {value:.3f}\")"
   ]
  },
  {
   "cell_type": "code",
   "execution_count": null,
   "metadata": {},
   "outputs": [],
   "source": [
    "# Create visualization of cell-type features\n",
    "fig = visualize_results(\n",
    "    data=processed_data,\n",
    "    x_col='cell_type',\n",
    "    y_col='feature_1',\n",
    "    plot_type='box',\n",
    "    figsize=(10, 6)\n",
    ")\n",
    "plt.title('Feature 1 Distribution by Cell Type')\n",
    "plt.show()"
   ]
  },
  {
   "cell_type": "markdown",
   "metadata": {},
   "source": [
    "## 6. Correlation Analysis\n",
    "\n",
    "Let's examine correlations between features:"
   ]
  },
  {
   "cell_type": "code",
   "execution_count": null,
   "metadata": {},
   "outputs": [],
   "source": [
    "# Calculate correlation matrix\n",
    "from muvicell.utils import plot_correlation_heatmap\n",
    "\n",
    "corr_matrix = calculate_correlation_matrix(processed_data)\n",
    "\n",
    "# Plot correlation heatmap\n",
    "fig = plot_correlation_heatmap(corr_matrix, figsize=(10, 8))\n",
    "plt.show()\n",
    "\n",
    "print(\"\\nCorrelation Matrix:\")\n",
    "print(corr_matrix.round(3))"
   ]
  },
  {
   "cell_type": "markdown",
   "metadata": {},
   "source": [
    "## 7. Multi-Feature Visualization\n",
    "\n",
    "Let's create some more complex visualizations:"
   ]
  },
  {
   "cell_type": "code",
   "execution_count": null,
   "metadata": {},
   "outputs": [],
   "source": [
    "# Scatter plot with cell type coloring\n",
    "fig = visualize_results(\n",
    "    data=processed_data,\n",
    "    x_col='feature_1',\n",
    "    y_col='feature_2',\n",
    "    hue_col='cell_type',\n",
    "    plot_type='scatter',\n",
    "    figsize=(10, 8)\n",
    ")\n",
    "plt.title('Feature 1 vs Feature 2 by Cell Type')\n",
    "plt.show()"
   ]
  },
  {
   "cell_type": "code",
   "execution_count": null,
   "metadata": {},
   "outputs": [],
   "source": [
    "# Create a comprehensive feature comparison\n",
    "fig, axes = plt.subplots(2, 2, figsize=(15, 12))\n",
    "axes = axes.ravel()\n",
    "\n",
    "for i, feature in enumerate(feature_cols):\n",
    "    sns.violinplot(data=processed_data, x='cell_type', y=feature, ax=axes[i])\n",
    "    axes[i].set_title(f'{feature.replace(\"_\", \" \").title()} by Cell Type')\n",
    "    axes[i].tick_params(axis='x', rotation=45)\n",
    "\n",
    "plt.tight_layout()\n",
    "plt.show()"
   ]
  },
  {
   "cell_type": "markdown",
   "metadata": {},
   "source": [
    "## 8. Summary and Export\n",
    "\n",
    "Finally, let's get a summary of our analysis:"
   ]
  },
  {
   "cell_type": "code",
   "execution_count": null,
   "metadata": {},
   "outputs": [],
   "source": [
    "# Get final summary\n",
    "final_summary = analyzer.get_summary()\n",
    "\n",
    "print(\"Final Analysis Summary:\")\n",
    "print(\"=\" * 40)\n",
    "for key, value in final_summary.items():\n",
    "    if isinstance(value, list) and len(value) > 5:\n",
    "        print(f\"{key}: {len(value)} items\")\n",
    "    else:\n",
    "        print(f\"{key}: {value}\")\n",
    "\n",
    "# Export results (optional)\n",
    "# processed_data.to_csv('muvicell_processed_data.csv', index=False)\n",
    "# print(\"\\nProcessed data exported to 'muvicell_processed_data.csv'\")"
   ]
  },
  {
   "cell_type": "markdown",
   "metadata": {},
   "source": [
    "## Next Steps\n",
    "\n",
    "This notebook demonstrated the basic functionality of MuVIcell. For more advanced features, check out the `advanced_features.ipynb` notebook which covers:\n",
    "\n",
    "- Custom analysis pipelines\n",
    "- Advanced visualization techniques\n",
    "- Integration with other bioinformatics tools\n",
    "- Working with real biological datasets\n",
    "\n",
    "For more information, visit the [MuVIcell GitHub repository](https://github.com/HartmannLab/MuVIcell)."
   ]
  }
 ],
 "metadata": {
  "kernelspec": {
   "display_name": "Python 3",
   "language": "python",
   "name": "python3"
  },
  "language_info": {
   "codemirror_mode": {
    "name": "ipython",
    "version": 3
   },
   "file_extension": ".py",
   "mimetype": "text/x-python",
   "name": "python",
   "nbconvert_exporter": "python",
   "pygments_lexer": "ipython3",
   "version": "3.8.0"
  }
 },
 "nbformat": 4,
 "nbformat_minor": 4
}